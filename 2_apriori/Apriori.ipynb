{
 "cells": [
  {
   "cell_type": "code",
   "execution_count": 1,
   "metadata": {},
   "outputs": [],
   "source": [
    "import itertools\n",
    "\n",
    "from collections import defaultdict"
   ]
  },
  {
   "cell_type": "code",
   "execution_count": 2,
   "metadata": {},
   "outputs": [],
   "source": [
    "support_threshold_percentage = 0.01\n",
    "k_max = 3  # triplets"
   ]
  },
  {
   "cell_type": "markdown",
   "metadata": {},
   "source": [
    "## Frequent itemsets"
   ]
  },
  {
   "cell_type": "code",
   "execution_count": 3,
   "metadata": {},
   "outputs": [
    {
     "name": "stdout",
     "output_type": "stream",
     "text": [
      "Total number of transactions: 100000\n",
      "Total number of distinct items: 870\n",
      "Support percentage thr 0.01, equivalent to at leat 1000 transactions\n"
     ]
    }
   ],
   "source": [
    "data_file = \"./data/T10I4D100K.dat\"\n",
    "\n",
    "k_list = [None] * k_max\n",
    "\n",
    "tot_transactions = 0\n",
    "with open(data_file, 'r') as data_file:\n",
    "    singleton_to_transactions = defaultdict(set)\n",
    "    for transaction_id, transaction in enumerate(data_file):\n",
    "        for item in transaction.strip(\" \\n\").split(\" \"):\n",
    "            singleton_to_transactions[frozenset({item})].add(transaction_id)\n",
    "        tot_transactions += 1\n",
    "    k_list[0] = singleton_to_transactions\n",
    "\n",
    "\n",
    "print(\"Total number of transactions: {}\".format(tot_transactions))\n",
    "print(\"Total number of distinct items: {}\".format(len(k_list[0].keys())))\n",
    "support_threshold = int(support_threshold_percentage * tot_transactions)\n",
    "print(\"Support percentage thr {}, equivalent to at leat {} transactions\".format(\n",
    "    support_threshold_percentage, support_threshold))"
   ]
  },
  {
   "cell_type": "code",
   "execution_count": 4,
   "metadata": {},
   "outputs": [
    {
     "name": "stdout",
     "output_type": "stream",
     "text": [
      "Remaining singletons 375\n"
     ]
    }
   ],
   "source": [
    "def filter_and_remove(set_to_transactions):\n",
    "    items_below_threshold = [\n",
    "        item for item, transactions in set_to_transactions.items() if len(transactions) < support_threshold\n",
    "    ]\n",
    "    for item in items_below_threshold:\n",
    "        del(set_to_transactions[item])\n",
    "        \n",
    "filter_and_remove(k_list[0])\n",
    "print(\"Remaining singletons {}\".format(len(k_list[0].keys())))"
   ]
  },
  {
   "cell_type": "code",
   "execution_count": 5,
   "metadata": {},
   "outputs": [
    {
     "name": "stdout",
     "output_type": "stream",
     "text": [
      "** Computing itemsets of size 2 **\n",
      "Number of sets with support 1000 = 9\n",
      "** Computing itemsets of size 3 **\n",
      "Number of sets with support 1000 = 1\n"
     ]
    }
   ],
   "source": [
    "for k in range(2, k_max + 1):\n",
    "    print(\"** Computing itemsets of size {} **\".format(k))\n",
    "    singletons = k_list[0]\n",
    "    k_minus_one_itemsets = k_list[k - 2]\n",
    "    k_item_set_to_transactions = defaultdict(set)\n",
    "    for keyA, keyB in itertools.product(singletons.keys(), k_minus_one_itemsets.keys()):\n",
    "        k_item_set = frozenset(keyA.union(keyB))\n",
    "        if len(k_item_set) != k:\n",
    "            continue\n",
    "        common_txs = singletons[keyA].intersection(k_minus_one_itemsets[keyB])\n",
    "        k_item_set_to_transactions[k_item_set] = common_txs\n",
    "    filter_and_remove(k_item_set_to_transactions)\n",
    "    print(\"Number of sets with support {} = {}\".format(support_threshold, len(k_item_set_to_transactions)))\n",
    "    k_list[k - 1] = k_item_set_to_transactions"
   ]
  }
 ],
 "metadata": {
  "kernelspec": {
   "display_name": "Python 3",
   "language": "python",
   "name": "python3"
  },
  "language_info": {
   "codemirror_mode": {
    "name": "ipython",
    "version": 3
   },
   "file_extension": ".py",
   "mimetype": "text/x-python",
   "name": "python",
   "nbconvert_exporter": "python",
   "pygments_lexer": "ipython3",
   "version": "3.5.2"
  }
 },
 "nbformat": 4,
 "nbformat_minor": 2
}
