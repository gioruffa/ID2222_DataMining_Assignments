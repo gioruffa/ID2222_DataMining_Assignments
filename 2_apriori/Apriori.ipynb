{
 "cells": [
  {
   "cell_type": "code",
   "execution_count": 55,
   "metadata": {},
   "outputs": [],
   "source": [
    "import itertools\n",
    "\n",
    "from collections import defaultdict"
   ]
  },
  {
   "cell_type": "code",
   "execution_count": 59,
   "metadata": {},
   "outputs": [],
   "source": [
    "support_threshold_percentage = 0.05"
   ]
  },
  {
   "cell_type": "code",
   "execution_count": 74,
   "metadata": {},
   "outputs": [
    {
     "name": "stdout",
     "output_type": "stream",
     "text": [
      "Total number of transactions: 100000\n",
      "Total number of distinct items: 870\n",
      "Support percentage thr 0.05, equivalent to at leat 5000 transactions\n"
     ]
    }
   ],
   "source": [
    "data_file = \"./data/T10I4D100K.dat\"\n",
    "\n",
    "item_to_transactions = defaultdict(set)\n",
    "\n",
    "tot_transactions = 0\n",
    "with open(data_file, 'r') as data_file:\n",
    "    for transaction_id, transaction in enumerate(data_file):\n",
    "        for item in transaction.strip(\" \\n\").split(\" \"):\n",
    "            item_to_transactions[item].add(transaction_id)\n",
    "        tot_transactions += 1\n",
    "\n",
    "\n",
    "print(\"Total number of transactions: {}\".format(tot_transactions))\n",
    "print(\"Total number of distinct items: {}\".format(len(item_to_transactions.keys())))\n",
    "support_threshold = int(support_threshold_percentage * tot_transactions)\n",
    "print(\"Support percentage thr {}, equivalent to at leat {} transactions\".format(\n",
    "    support_threshold_percentage, support_threshold))"
   ]
  },
  {
   "cell_type": "code",
   "execution_count": 75,
   "metadata": {},
   "outputs": [
    {
     "name": "stdout",
     "output_type": "stream",
     "text": [
      "Remaining singletons 10\n"
     ]
    }
   ],
   "source": [
    "items_below_threshold = [\n",
    "    item for item, transactions in item_to_transactions.items() if len(transactions) < support_threshold\n",
    "]\n",
    "len(items_below_threshold)\n",
    "for item in items_below_threshold:\n",
    "    del(item_to_transactions[item])\n",
    "print(\"Remaining singletons {}\".format(len(item_to_transactions.keys())))"
   ]
  },
  {
   "cell_type": "code",
   "execution_count": 78,
   "metadata": {},
   "outputs": [
    {
     "name": "stdout",
     "output_type": "stream",
     "text": [
      "0.00355\n",
      "0.00387\n",
      "0.0086\n",
      "0.00392\n",
      "0.0064\n",
      "0.00303\n",
      "0.00319\n",
      "0.01194\n",
      "0.00504\n",
      "0.00155\n",
      "0.00176\n",
      "0.00366\n",
      "0.00252\n",
      "0.00344\n",
      "0.00263\n",
      "0.00259\n",
      "0.00238\n",
      "0.00208\n",
      "0.00443\n",
      "0.00334\n",
      "0.00198\n",
      "0.00219\n",
      "0.00349\n",
      "0.00613\n",
      "0.00226\n",
      "0.00225\n",
      "0.00183\n",
      "0.00189\n",
      "0.00267\n",
      "0.00227\n",
      "0.00283\n",
      "0.00498\n",
      "0.00566\n",
      "0.00294\n",
      "0.00328\n",
      "0.00403\n",
      "0.00301\n",
      "0.00584\n",
      "0.00317\n",
      "0.0028\n",
      "0.00275\n",
      "0.00276\n",
      "0.00259\n",
      "0.00329\n",
      "0.00321\n"
     ]
    }
   ],
   "source": [
    "\n",
    "for items in itertools.combinations(item_to_transactions.keys(),2):\n",
    "    common_txs = item_to_transactions[items[0]]\n",
    "    for item in items[1:]:\n",
    "        common_txs = common_txs.intersection(item_to_transactions[item])\n",
    "    print(len(common_txs)/ tot_transactions)"
   ]
  },
  {
   "cell_type": "code",
   "execution_count": null,
   "metadata": {},
   "outputs": [],
   "source": []
  }
 ],
 "metadata": {
  "kernelspec": {
   "display_name": "Python 3",
   "language": "python",
   "name": "python3"
  },
  "language_info": {
   "codemirror_mode": {
    "name": "ipython",
    "version": 3
   },
   "file_extension": ".py",
   "mimetype": "text/x-python",
   "name": "python",
   "nbconvert_exporter": "python",
   "pygments_lexer": "ipython3",
   "version": "3.5.2"
  }
 },
 "nbformat": 4,
 "nbformat_minor": 2
}
