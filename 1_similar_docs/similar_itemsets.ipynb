{
 "cells": [
  {
   "cell_type": "code",
   "execution_count": 186,
   "metadata": {},
   "outputs": [],
   "source": [
    "import glob\n",
    "import itertools\n",
    "import os\n",
    "import os.path\n",
    "import random\n",
    "import binascii"
   ]
  },
  {
   "cell_type": "code",
   "execution_count": 143,
   "metadata": {},
   "outputs": [],
   "source": [
    "corpus_folder = \"./data/test\"\n",
    "test_file_path = \"./data/test/1.txt\""
   ]
  },
  {
   "cell_type": "code",
   "execution_count": 155,
   "metadata": {},
   "outputs": [
    {
     "name": "stdout",
     "output_type": "stream",
     "text": [
      "15075007\n",
      "105998545\n",
      "156340709\n",
      "238835196\n",
      "312708591\n",
      "491853531\n",
      "809500611\n",
      "996668263\n",
      "1648209365\n",
      "2428467314\n",
      "2563917151\n",
      "2726894320\n",
      "2873054939\n",
      "2891092674\n",
      "3478361055\n",
      "3523499602\n",
      "3761386704\n",
      "3881708472\n"
     ]
    }
   ],
   "source": [
    "def file_to_shingles(file_path, shingle_size=2, do_hash=True):\n",
    "    with open(file_path, 'r') as infile:\n",
    "        content = infile.read()\n",
    "        shingles = set()\n",
    "        for i in range(len(content) - shingle_size):\n",
    "            shingle = content[i:i+shingle_size]\n",
    "            shingles.add(\n",
    "                hash_shingle(shingle) if do_hash else shingle\n",
    "            )\n",
    "        return sorted(list(shingles))\n",
    "\n",
    "def hash_shingle(shingle):\n",
    "    \"\"\"Hashes a shingle to a 32bit integer.\n",
    "    \n",
    "    \"\"\"\n",
    "    return binascii.crc32(shingle.encode(\"utf-8\")) & 0xffffffff\n",
    "\n",
    "for shingle in file_to_shingles(test_file_path):\n",
    "    print(shingle)\n",
    "\n",
    "if len(file_to_shingles(test_file_path)) != len(file_to_shingles(test_file_path, do_hash=False)):\n",
    "    print(\"Hey, we have a problem\")"
   ]
  },
  {
   "cell_type": "code",
   "execution_count": 156,
   "metadata": {},
   "outputs": [
    {
     "data": {
      "text/plain": [
       "0.5"
      ]
     },
     "execution_count": 156,
     "metadata": {},
     "output_type": "execute_result"
    }
   ],
   "source": [
    "def jacard_similarity(set_1, set_2):\n",
    "    return len(set_1.intersection(set_2)) / len(set_1.union(set_2))\n",
    "\n",
    "jacard_similarity(set([\"a\",\"b\",\"c\"]), set([\"b\",\"c\",\"d\"]))"
   ]
  },
  {
   "cell_type": "code",
   "execution_count": 182,
   "metadata": {},
   "outputs": [
    {
     "data": {
      "text/plain": [
       "[74223370, 45489653, 215062606]"
      ]
     },
     "execution_count": 182,
     "metadata": {},
     "output_type": "execute_result"
    }
   ],
   "source": [
    "# next prime of 2^32 - 1 is 4294967311\n",
    "# http://compoasso.free.fr/primelistweb/page/prime/liste_online_en.php\n",
    "        \n",
    "class HashStore:\n",
    "    max_shingle_hash = 2**32 - 1\n",
    "    next_prime = 4294967311\n",
    "    \n",
    "    def __init__(self, number_of_hash_functions=100, seed=None):\n",
    "        if seed is not None:\n",
    "            random.seed(seed)\n",
    "        self.n_hash_functions = number_of_hash_functions  # the length of the signature\n",
    "        self.a_coefficients = self.generate_coefficient_list(number_of_hash_functions)\n",
    "        self.b_coefficients = self.generate_coefficient_list(number_of_hash_functions)\n",
    "    \n",
    "    def generate_coefficient_list(self, number_of_coefficients):\n",
    "        # integers in python have arbitrary precision (not applicable to numpy)\n",
    "        # https://mortada.net/can-integer-operations-overflow-in-python.html\n",
    "        coefficients = []\n",
    "        \n",
    "        def random_int():\n",
    "            return random.randint(1, self.max_shingle_hash)\n",
    "        \n",
    "        for _ in range(number_of_coefficients):\n",
    "            candidate = random_int()\n",
    "            while candidate in coefficients:\n",
    "                candidate = random_int()\n",
    "            coefficients.append(candidate)\n",
    "        \n",
    "        return coefficients\n",
    "    \n",
    "    def hash_function(self, function_index, value):\n",
    "        assert function_index < self.n_hash_functions, \"Function index out of range\"\n",
    "        assert type(value) == int, \"Cannot hash strings, yet...\"\n",
    "        a = self.a_coefficients[function_index]\n",
    "        b = self.b_coefficients[function_index]\n",
    "        return (a * value + b) % self.next_prime & 0xffffffff  # not really needed it\n",
    "    \n",
    "    def get_signature(self, set_of_shingles):\n",
    "        signature = []  # needs to keep the order of insertion, the set will not grant it\n",
    "        for i in range(self.n_hash_functions):\n",
    "            signature.append(\n",
    "                min(map(lambda x: self.hash_function(i,x) ,set_of_shingles))\n",
    "            )\n",
    "        return signature\n",
    "    \n",
    "            \n",
    "    \n",
    "shingles_set = file_to_shingles(test_file_path)\n",
    "\n",
    "hash_store = HashStore(3, seed=42)\n",
    "hash_store.hash_function(2,4)\n",
    "hash_store.get_signature(shingles_set)\n"
   ]
  },
  {
   "cell_type": "code",
   "execution_count": 229,
   "metadata": {},
   "outputs": [
    {
     "data": {
      "text/plain": [
       "[[120392129, 281924773, 48793314, 113009555],\n",
       " [816028170, 63038758, 121942940, 227166117],\n",
       " [247472466, 63038758, 36547400, 54618441]]"
      ]
     },
     "execution_count": 229,
     "metadata": {},
     "output_type": "execute_result"
    }
   ],
   "source": [
    "hash_store = HashStore(4, seed=42)\n",
    "file_list = glob.glob(os.path.join(corpus_folder,\"*\"))\n",
    "shingle_sets = list(map(file_to_shingles, file_list))\n",
    "signature_matrix = list(map(hash_store.get_signature , shingle_sets))\n",
    "signature_matrix  # aka list of lists"
   ]
  },
  {
   "cell_type": "code",
   "execution_count": 210,
   "metadata": {},
   "outputs": [
    {
     "data": {
      "text/plain": [
       "[('a', 'b'), ('a', 'c'), ('a', 'd'), ('b', 'c'), ('b', 'd'), ('c', 'd')]"
      ]
     },
     "execution_count": 210,
     "metadata": {},
     "output_type": "execute_result"
    }
   ],
   "source": [
    "asd = [\"a\",\"b\",\"c\",\"d\"]\n",
    "list(itertools.combinations(asd,2))"
   ]
  },
  {
   "cell_type": "code",
   "execution_count": 212,
   "metadata": {},
   "outputs": [
    {
     "name": "stdout",
     "output_type": "stream",
     "text": [
      "0.11428571428571428\n",
      "0.11428571428571428\n",
      "0.6363636363636364\n"
     ]
    }
   ],
   "source": [
    "for set1, set2 in itertools.combinations(shingle_sets,2):\n",
    "#     print(set1,set2)\n",
    "    print(jacard_similarity(set(set1),set(set2)))  "
   ]
  },
  {
   "cell_type": "code",
   "execution_count": 221,
   "metadata": {},
   "outputs": [
    {
     "data": {
      "text/plain": [
       "0.2"
      ]
     },
     "execution_count": 221,
     "metadata": {},
     "output_type": "execute_result"
    }
   ],
   "source": [
    "sign1, sign2 = signature_matrix[0], signature_matrix[2]\n",
    "\n",
    "def compare_signatures(sign1, sign2):\n",
    "    assert len(sign1) == len(sign2)\n",
    "    return sum([x == y for x,y in zip(sign1, sign2)]) / len(sign1)\n",
    "\n",
    "compare_signatures(sign1,sign2)"
   ]
  },
  {
   "cell_type": "code",
   "execution_count": 228,
   "metadata": {},
   "outputs": [
    {
     "name": "stdout",
     "output_type": "stream",
     "text": [
      "0.0\n",
      "0.0\n",
      "0.25\n"
     ]
    }
   ],
   "source": [
    "for sign1, sign2 in itertools.combinations(signature_matrix,2):\n",
    "#     print(set1,set2)\n",
    "    print(compare_signatures(sign1,sign2))  "
   ]
  }
 ],
 "metadata": {
  "kernelspec": {
   "display_name": "Python 3",
   "language": "python",
   "name": "python3"
  },
  "language_info": {
   "codemirror_mode": {
    "name": "ipython",
    "version": 3
   },
   "file_extension": ".py",
   "mimetype": "text/x-python",
   "name": "python",
   "nbconvert_exporter": "python",
   "pygments_lexer": "ipython3",
   "version": "3.5.2"
  }
 },
 "nbformat": 4,
 "nbformat_minor": 2
}
