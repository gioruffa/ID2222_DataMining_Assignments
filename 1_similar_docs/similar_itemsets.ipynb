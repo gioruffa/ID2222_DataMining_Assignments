{
 "cells": [
  {
   "cell_type": "code",
   "execution_count": 1,
   "metadata": {},
   "outputs": [],
   "source": [
    "import binascii\n",
    "import glob\n",
    "import itertools\n",
    "import os\n",
    "import os.path\n",
    "import random\n",
    "import time\n",
    "\n",
    "from collections import defaultdict\n",
    "from functools import reduce"
   ]
  },
  {
   "cell_type": "code",
   "execution_count": 2,
   "metadata": {},
   "outputs": [],
   "source": [
    "corpus_folder = \"./data/enrontest/\"\n",
    "corpus_test_folder = \"./data/test\"\n",
    "test_file_path = \"./data/test/1.txt\""
   ]
  },
  {
   "cell_type": "code",
   "execution_count": 3,
   "metadata": {},
   "outputs": [
    {
     "name": "stdout",
     "output_type": "stream",
     "text": [
      "Shingles in ./data/test/1.txt (<raw> --> <hashed>)\n",
      " c --> 15075007\n",
      " m --> 105998545\n",
      " s --> 156340709\n",
      "a  --> 238835196\n",
      "ai --> 312708591\n",
      "am --> 491853531\n",
      "ao --> 809500611\n",
      "ci --> 996668263\n",
      "co --> 1648209365\n",
      "e  --> 2428467314\n",
      "ia --> 2563917151\n",
      "ma --> 2726894320\n",
      "me --> 2873054939\n",
      "mm --> 2891092674\n",
      "o  --> 3478361055\n",
      "om --> 3523499602\n",
      "st --> 3761386704\n",
      "ta --> 3881708472\n"
     ]
    }
   ],
   "source": [
    "def file_to_shingles(file_path, shingle_size=2, do_hash=True):\n",
    "    with open(file_path, 'r') as infile:\n",
    "        content = infile.read()\n",
    "        shingles = set()\n",
    "        for i in range(len(content) - shingle_size):\n",
    "            shingle = content[i:i+shingle_size]\n",
    "            shingles.add(\n",
    "                hash_shingle(shingle) if do_hash else shingle\n",
    "            )\n",
    "        return sorted(list(shingles))\n",
    "\n",
    "def hash_shingle(shingle):\n",
    "    \"\"\"Hashes a shingle to a 32bit integer.\n",
    "    \n",
    "    \"\"\"\n",
    "    return binascii.crc32(shingle.encode(\"utf-8\")) & 0xffffffff\n",
    "\n",
    "################\n",
    "##### TEST #####\n",
    "################\n",
    "shingle_size = 2\n",
    "print(\"Shingles in {} (<raw> --> <hashed>)\".format(test_file_path))\n",
    "shingles_raw = file_to_shingles(test_file_path, shingle_size=shingle_size, do_hash=False)\n",
    "shingles_hashed = file_to_shingles(test_file_path, shingle_size=shingle_size, do_hash=True)\n",
    "for shingle, shingle_hashed in zip(shingles_raw, shingles_hashed):\n",
    "    print(\"{} --> {}\".format(shingle, shingle_hashed))\n",
    "\n",
    "if len(file_to_shingles(test_file_path)) != len(file_to_shingles(test_file_path, do_hash=False)):\n",
    "    print(\"Hey, we have a problem!\")"
   ]
  },
  {
   "cell_type": "code",
   "execution_count": 4,
   "metadata": {},
   "outputs": [
    {
     "name": "stdout",
     "output_type": "stream",
     "text": [
      "Jaccard similarity between {'c', 'b', 'a'} and {'c', 'd', 'b'} = 0.5\n"
     ]
    }
   ],
   "source": [
    "def jacard_similarity(set_1, set_2):\n",
    "    return len(set_1.intersection(set_2)) / len(set_1.union(set_2))\n",
    "\n",
    "################\n",
    "##### TEST #####\n",
    "################\n",
    "set_1 = {\"a\", \"b\", \"c\"}\n",
    "set_2 = {\"b\", \"c\", \"d\"} \n",
    "print(\"Jaccard similarity between {} and {} = {}\".format(\n",
    "    set_1, set_2, jacard_similarity(set_1, set_2)))"
   ]
  },
  {
   "cell_type": "code",
   "execution_count": 5,
   "metadata": {},
   "outputs": [
    {
     "name": "stdout",
     "output_type": "stream",
     "text": [
      "Signature of document ./data/test/1.txt (using 8 hash functions)\n",
      "[52407992, 301237324, 671516145, 569331182, 1716025017, 120599866, 240546662, 161921516]\n"
     ]
    }
   ],
   "source": [
    "class HashStore:\n",
    "    # next prime of 2^32 - 1 is 4294967311\n",
    "    # http://compoasso.free.fr/primelistweb/page/prime/liste_online_en.php\n",
    "    max_shingle_hash = 2**32 - 1\n",
    "    next_prime = 4294967311\n",
    "    \n",
    "    def __init__(self, number_of_hash_functions=100, seed=None):\n",
    "        if seed:\n",
    "            random.seed(seed)\n",
    "        self.n_hash_functions = number_of_hash_functions  # the length of the signature\n",
    "        self.a_coefficients = self.generate_coefficient_list(number_of_hash_functions)\n",
    "        self.b_coefficients = self.generate_coefficient_list(number_of_hash_functions)\n",
    "    \n",
    "    def generate_coefficient_list(self, number_of_coefficients):\n",
    "        # integers in python have arbitrary precision (not applicable to numpy)\n",
    "        # https://mortada.net/can-integer-operations-overflow-in-python.html\n",
    "        coefficients = []\n",
    "        \n",
    "        def random_int():\n",
    "            return random.randint(1, self.max_shingle_hash)\n",
    "        \n",
    "        for _ in range(number_of_coefficients):\n",
    "            candidate = random_int()\n",
    "            while candidate in coefficients:\n",
    "                candidate = random_int()\n",
    "            coefficients.append(candidate)\n",
    "        \n",
    "        return coefficients\n",
    "    \n",
    "    def hash_function(self, function_index, value):\n",
    "        assert function_index < self.n_hash_functions, \"Function index out of range\"\n",
    "        assert type(value) == int, \"Cannot hash strings, yet...\"\n",
    "        a = self.a_coefficients[function_index]\n",
    "        b = self.b_coefficients[function_index]\n",
    "        return (a * value + b) % self.next_prime & 0xffffffff  # not really needed it\n",
    "    \n",
    "    def get_signature(self, set_of_shingles):\n",
    "        signature = []  # needs to keep the order of insertion, the set will not grant it\n",
    "        for i in range(self.n_hash_functions):\n",
    "            signature.append(\n",
    "                min(map(lambda x: self.hash_function(i,x) ,set_of_shingles))\n",
    "            )\n",
    "        return signature\n",
    "    \n",
    "            \n",
    "################\n",
    "##### TEST #####\n",
    "################\n",
    "n_hash_functions = 8\n",
    "hash_store = HashStore(n_hash_functions, seed=42)\n",
    "shingles_set = file_to_shingles(test_file_path)\n",
    "set_signature = hash_store.get_signature(shingles_set)\n",
    "print(\"Signature of document {} (using {} hash functions)\".format(test_file_path, n_hash_functions))\n",
    "print(hash_store.get_signature(shingles_set))"
   ]
  },
  {
   "cell_type": "code",
   "execution_count": 6,
   "metadata": {},
   "outputs": [
    {
     "name": "stdout",
     "output_type": "stream",
     "text": [
      "Using 8 hash functions!\n",
      "Processed files:\n",
      "['./data/test/1.txt', './data/test/3.txt', './data/test/2.txt']\n",
      "Signature matrix (3 x 8):\n",
      "  52407992  301237324  671516145  569331182 1716025017  120599866  240546662  161921516\n",
      "  52407992  301237324  104680079  569331182  230774069  120599866   75362837  161921516\n",
      " 518549885  138899815  185659784  301924761   93036249   27538086  240546662  378500321\n",
      "Similarity between ./data/test/1.txt and ./data/test/3.txt = 0.625\n",
      "Similarity between ./data/test/1.txt and ./data/test/2.txt = 0.125\n",
      "Similarity between ./data/test/3.txt and ./data/test/2.txt = 0.0\n"
     ]
    }
   ],
   "source": [
    "def compare_signatures(sign1, sign2):\n",
    "    assert len(sign1) == len(sign2)\n",
    "    # this is one liner in numpy, but we decided to use only plain python\n",
    "    # also with numpy we must pay attention to not overflow when calculating\n",
    "    # the hashes\n",
    "    return sum([x == y for x,y in zip(sign1, sign2)]) / len(sign1)\n",
    "\n",
    "def find_similar_sets(collection_sets, threshold, similarity_fn):\n",
    "    similar_docs = set()\n",
    "    for (i, sign1), (j, sign2) in itertools.combinations(enumerate(collection_sets), 2):\n",
    "        similarity = similarity_fn(sign1, sign2)\n",
    "        if similarity >= threshold:\n",
    "            similar_docs.add((i, j, similarity))\n",
    "    return similar_docs\n",
    "\n",
    "################\n",
    "##### TEST #####\n",
    "################\n",
    "n_hash_functions = 8\n",
    "hash_store = HashStore(n_hash_functions, seed=42)\n",
    "file_list = glob.glob(os.path.join(corpus_test_folder, \"*\"))\n",
    "shingle_sets = list(map(file_to_shingles, file_list))\n",
    "signature_matrix = list(map(hash_store.get_signature , shingle_sets))\n",
    "print(\"Using {} hash functions!\".format(n_hash_functions))\n",
    "print(\"Processed files:\")\n",
    "print(file_list)\n",
    "print(\"Signature matrix ({} x {}):\".format(len(signature_matrix), len(signature_matrix[0])))\n",
    "print('\\n'.join([' '.join(['{:10}'.format(item) for item in row]) \n",
    "      for row in signature_matrix]))\n",
    "for (i, sign1), (j, sign2) in itertools.combinations(enumerate(signature_matrix), 2):\n",
    "    print(\"Similarity between {} and {} = {}\".format(file_list[i], file_list[j], \n",
    "                                                     compare_signatures(sign1,sign2)))"
   ]
  },
  {
   "cell_type": "code",
   "execution_count": 7,
   "metadata": {},
   "outputs": [],
   "source": [
    "class LSH:\n",
    "    def __init__(self, signature_matrix, bands, threshold = 0.5):\n",
    "        # using only bands because the bands * rows = len(signature)\n",
    "        self.signature_matrix = signature_matrix\n",
    "        self.bands = bands\n",
    "        # the last band, if not completed, is hashed anyway\n",
    "        self.signature_length = len(self.signature_matrix[0])\n",
    "        \n",
    "        assert self.signature_length >= self.bands\n",
    "        self.rows = self.signature_length // self.bands\n",
    "        \n",
    "        self.threshold = threshold\n",
    "    \n",
    "    def hash_band_item(self, band):\n",
    "        return reduce(lambda x,y : \"{}{}\".format(x,y), band)\n",
    "        \n",
    "    def get_band_item(self, band_index, doc_index):\n",
    "        start_index = band_index * self.rows\n",
    "        end_index = min((band_index + 1) * self.rows, self.signature_length)\n",
    "        assert start_index < end_index\n",
    "        return self.signature_matrix[doc_index][start_index : end_index]\n",
    "    \n",
    "    def get_band_candidates(self, band_index):\n",
    "        hash_table = defaultdict(list)\n",
    "        for doc_index in range(len(self.signature_matrix)) :\n",
    "            band_item = self.get_band_item(band_index, doc_index)\n",
    "            hash_table[self.hash_band_item(band_item)].append(doc_index)\n",
    "        \n",
    "        candidates = []\n",
    "        for values in hash_table.values():\n",
    "            if len(values) > 1:\n",
    "                candidates += list(itertools.combinations(sorted(values), 2))  # get the list of candidate PAIRS\n",
    "        return set(candidates)  # unique pairs\n",
    "    \n",
    "    def get_candidates(self):\n",
    "        candidates = set()\n",
    "        for i in range(self.bands):\n",
    "            candidates = candidates.union(self.get_band_candidates(i))\n",
    "        return candidates\n",
    "    \n",
    "    def get_similar(self):\n",
    "        similar_docs = set()\n",
    "        candidates = self.get_candidates()\n",
    "        for doc_index_1, doc_index_2 in candidates:\n",
    "            sign1, sign2 = signature_matrix[doc_index_1], signature_matrix[doc_index_2]\n",
    "            similarity = compare_signatures(sign1, sign2)\n",
    "            if similarity >= self.threshold:\n",
    "                similar_docs.add((doc_index_1,doc_index_2,similarity))\n",
    "        return similar_docs"
   ]
  },
  {
   "cell_type": "code",
   "execution_count": 8,
   "metadata": {},
   "outputs": [
    {
     "name": "stdout",
     "output_type": "stream",
     "text": [
      "Configuration:\n",
      " - Number of files: 5\n",
      " - Number of hash functions: 100\n",
      " - Number of bands: 25\n",
      " - Number of rows per band (inferred): 4\n",
      " - LSH similarity threshold 't': 0.3\n",
      "\n",
      "Minhashing time: 135ms\n",
      "Signature matrix shape: 5 x 100\n",
      "\n",
      "***** LSH *****\n",
      "***** RANKING (7 pairs retrieved in 1ms) *****\n",
      "Similarity: 0.46\n",
      "./data/enrontest/0065.2003-12-23.GP.spam.txt and ./data/enrontest/0069.2003-12-23.GP.spam.txt\n",
      "*****\n",
      "Similarity: 0.44\n",
      "./data/enrontest/0062.2003-12-22.GP.spam.txt and ./data/enrontest/0058.2003-12-21.GP.spam.txt\n",
      "*****\n",
      "Similarity: 0.43\n",
      "./data/enrontest/0065.2003-12-23.GP.spam.txt and ./data/enrontest/0062.2003-12-22.GP.spam.txt\n",
      "*****\n",
      "Similarity: 0.42\n",
      "./data/enrontest/0061.2003-12-21.GP.spam.txt and ./data/enrontest/0058.2003-12-21.GP.spam.txt\n",
      "*****\n",
      "Similarity: 0.41\n",
      "./data/enrontest/0069.2003-12-23.GP.spam.txt and ./data/enrontest/0058.2003-12-21.GP.spam.txt\n",
      "*****\n",
      "Similarity:  0.4\n",
      "./data/enrontest/0069.2003-12-23.GP.spam.txt and ./data/enrontest/0062.2003-12-22.GP.spam.txt\n",
      "*****\n",
      "Similarity: 0.38\n",
      "./data/enrontest/0065.2003-12-23.GP.spam.txt and ./data/enrontest/0061.2003-12-21.GP.spam.txt\n",
      "*****\n",
      "\n",
      "***** ALL *****\n",
      "***** RANKING (10 pairs retrieved in 0ms) *****\n",
      "Similarity: 0.46\n",
      "./data/enrontest/0065.2003-12-23.GP.spam.txt and ./data/enrontest/0069.2003-12-23.GP.spam.txt\n",
      "*****\n",
      "Similarity: 0.44\n",
      "./data/enrontest/0062.2003-12-22.GP.spam.txt and ./data/enrontest/0058.2003-12-21.GP.spam.txt\n",
      "*****\n",
      "Similarity: 0.43\n",
      "./data/enrontest/0065.2003-12-23.GP.spam.txt and ./data/enrontest/0062.2003-12-22.GP.spam.txt\n",
      "*****\n",
      "Similarity: 0.42\n",
      "./data/enrontest/0061.2003-12-21.GP.spam.txt and ./data/enrontest/0058.2003-12-21.GP.spam.txt\n",
      "*****\n",
      "Similarity: 0.41\n",
      "./data/enrontest/0069.2003-12-23.GP.spam.txt and ./data/enrontest/0058.2003-12-21.GP.spam.txt\n",
      "*****\n",
      "Similarity:  0.4\n",
      "./data/enrontest/0069.2003-12-23.GP.spam.txt and ./data/enrontest/0061.2003-12-21.GP.spam.txt\n",
      "*****\n",
      "Similarity:  0.4\n",
      "./data/enrontest/0069.2003-12-23.GP.spam.txt and ./data/enrontest/0062.2003-12-22.GP.spam.txt\n",
      "*****\n",
      "Similarity: 0.39\n",
      "./data/enrontest/0062.2003-12-22.GP.spam.txt and ./data/enrontest/0061.2003-12-21.GP.spam.txt\n",
      "*****\n",
      "Similarity: 0.38\n",
      "./data/enrontest/0065.2003-12-23.GP.spam.txt and ./data/enrontest/0061.2003-12-21.GP.spam.txt\n",
      "*****\n",
      "Similarity: 0.38\n",
      "./data/enrontest/0065.2003-12-23.GP.spam.txt and ./data/enrontest/0058.2003-12-21.GP.spam.txt\n",
      "*****\n"
     ]
    }
   ],
   "source": [
    "################\n",
    "## REAL TEST ###\n",
    "################\n",
    "\n",
    "def print_ranking(results, time):\n",
    "    print(\"***** RANKING ({:d} pairs retrieved in {:d}ms) *****\".format(len(results), time))\n",
    "    for doc1_idx, doc2_idx, similarity in results:\n",
    "        doc1 = file_list[doc1_idx]\n",
    "        doc2 = file_list[doc2_idx]\n",
    "        print(\"Similarity: {:4}\".format(similarity))\n",
    "        print(\"{} and {}\".format(doc1, doc2))\n",
    "        print(\"*****\")\n",
    "        \n",
    "def millis():\n",
    "    return int(round(time.time() * 1000))\n",
    "\n",
    "#### CONFIG ####\n",
    "n_hash_functions = 100\n",
    "bands = 25  # lower or equal to the number of hash functions!\n",
    "threshold = 0.3\n",
    "################\n",
    "rows = n_hash_functions // bands\n",
    "\n",
    "file_list = glob.glob(os.path.join(corpus_folder, \"*\"))\n",
    "print(\"Configuration:\")\n",
    "print(\" - Number of files:\", len(file_list))\n",
    "print(\" - Number of hash functions:\", n_hash_functions)\n",
    "print(\" - Number of bands:\", bands)\n",
    "print(\" - Number of rows per band (inferred):\", rows)\n",
    "print(\" - LSH similarity threshold 't':\", threshold)\n",
    "\n",
    "tick = millis()\n",
    "shingle_sets = list(map(file_to_shingles, file_list))\n",
    "hash_store = HashStore(n_hash_functions, seed=42)\n",
    "signature_matrix = list(map(hash_store.get_signature , shingle_sets))\n",
    "tock = millis()\n",
    "time_minhashing = (tock - tick)\n",
    "print(\"\\nMinhashing time: {}ms\".format(time_minhashing))\n",
    "print(\"Signature matrix shape: {} x {}\".format(len(signature_matrix), \n",
    "                                               len(signature_matrix[0])))\n",
    "\n",
    "print(\"\\n***** LSH *****\")\n",
    "tick = millis()\n",
    "lsh = LSH(signature_matrix, bands, threshold)\n",
    "similar_pairs = lsh.get_similar()\n",
    "tock = millis()\n",
    "time_lsh = (tock - tick)\n",
    "\n",
    "similar_pairs = sorted(similar_pairs, key=lambda x: x[2], reverse=True)  # rank\n",
    "print_ranking(similar_pairs, time_lsh)\n",
    "\n",
    "# Compare it to the time to compute all the similarities\n",
    "print(\"\\n***** ALL *****\")\n",
    "tick = millis()\n",
    "similar_pairs_all = find_similar_sets(signature_matrix, threshold, similarity_fn=compare_signatures)\n",
    "tock = millis()\n",
    "time_all = (tock - tick)        \n",
    "\n",
    "similar_pairs_all = sorted(similar_pairs_all, key=lambda x: x[2], reverse=True)  # rank\n",
    "print_ranking(similar_pairs_all, time_all)"
   ]
  },
  {
   "cell_type": "code",
   "execution_count": 9,
   "metadata": {},
   "outputs": [
    {
     "name": "stdout",
     "output_type": "stream",
     "text": [
      "Relevant (similar) sets using Jaccard similarity (threshold = 0.4):\n",
      "{(0, 1), (1, 3), (1, 4), (2, 3), (0, 4), (0, 3), (3, 4), (2, 4)}\n",
      "Total combinations: 10. Relevant: 8. Nonrelevant: 2\n",
      "Relevant (similar) sets using LSH (threshold = 0.4):\n",
      "{(1, 2), (1, 4), (2, 4), (3, 4), (0, 2)}\n",
      "\n",
      "***** Confusion Matrix *****\n",
      "True positives:  3\n",
      "True negatives:  0\n",
      "False positives: 2\n",
      "False negatives: 5\n",
      "**********\n",
      "Precision: 0.600\n",
      "Recall:    0.375\n",
      "****************************\n"
     ]
    }
   ],
   "source": [
    "# LET'S HAVE SOME FUN (SORRY GIO)\n",
    "\n",
    "#### CONFIG ####\n",
    "n_hash_functions = 100\n",
    "bands = 23  # lower or equal to the number of hash functions!\n",
    "threshold = 0.4\n",
    "################\n",
    "\n",
    "# https://en.wikipedia.org/wiki/Precision_and_recall\n",
    "# We are going to:\n",
    "# 1. Get similar pairs of documents using Jaccard similarity (via shingles)\n",
    "#    This will be our \"ground truth\"\n",
    "# 2. Get similar pairs of documents using LSH (via signature matrix)\n",
    "#    This will be our \"selected positives examples (some of the migh be FP)\"\n",
    "# 3. Compute precision and recall.\n",
    "\n",
    "# 1.Get similar pairs of documents using Jaccard similarity (via shingles)\n",
    "file_list = glob.glob(os.path.join(corpus_folder, \"*\"))\n",
    "shingle_sets = map(file_to_shingles, file_list)\n",
    "# Convert to set (we had to use list to preserve order)\n",
    "shingle_sets = [set(shingles) for shingles in shingle_sets]\n",
    "relevant_elements = find_similar_sets(shingle_sets, threshold, jacard_similarity)\n",
    "# Remove similarity. Just keep the pair of indexes\n",
    "relevant_elements = {(x[0], x[1]) for x in relevant_elements}\n",
    "# Find how many document pairs exist ((n * (n - 1)) / 2)\n",
    "n = len(file_list)\n",
    "number_possible_pairs = (n * (n - 1)) // 2\n",
    "print(\"Relevant (similar) sets using Jaccard similarity (threshold = {}):\".format(threshold))\n",
    "print(set(relevant_elements))\n",
    "print(\"Total combinations: {}. Relevant: {}. Nonrelevant: {}\".format(\n",
    "    number_possible_pairs, len(relevant_elements), number_possible_pairs - len(relevant_elements)))\n",
    "\n",
    "# 2. Get similar pairs of documents using LSH (via signature matrix)\n",
    "hash_store = HashStore(n_hash_functions, seed=42)\n",
    "signature_matrix = list(map(hash_store.get_signature , shingle_sets))\n",
    "lsh = LSH(signature_matrix, bands, threshold)\n",
    "selected_positives = lsh.get_similar()\n",
    "# Remove similarity. Just keep the pair of indexes\n",
    "selected_positives = {(x[0], x[1]) for x in selected_positives}\n",
    "print(\"Relevant (similar) sets using LSH (threshold = {}):\".format(threshold))\n",
    "print(selected_positives)\n",
    "\n",
    "# 3. Compute precision and recall.\n",
    "def confusion_matrix(relevant_elements, selected_positives, number_possible_pairs):\n",
    "    tp = 0\n",
    "    fp = 0\n",
    "    for pair in selected_positives:\n",
    "        if pair in relevant_elements:\n",
    "            tp += 1\n",
    "        else:\n",
    "            fp += 1\n",
    "    # False negatives are the remaining pairs that we haven't checked\n",
    "    fn = len(relevant_elements - selected_positives)\n",
    "    # True negatives are the remaining sets\n",
    "    tn = number_possible_pairs - (tp + fp + fn)\n",
    "    if tp == 0:\n",
    "        prec = rec = 0\n",
    "    else:\n",
    "        prec = tp / (tp + fp)\n",
    "        rec = tp / (tp + fn)\n",
    "    return {\"tp\": tp, \"fp\": fp, \"tn\": tn, \"fn\": fn, \n",
    "            \"prec\": prec, \"rec\": rec}\n",
    "\n",
    "def print_confusion_matrix(cm):\n",
    "    print(\"\\n***** Confusion Matrix *****\")\n",
    "    print(\"True positives:  {:d}\".format(cm[\"tp\"]))\n",
    "    print(\"True negatives:  {:d}\".format(cm[\"tn\"]))\n",
    "    print(\"False positives: {:d}\".format(cm[\"fp\"]))\n",
    "    print(\"False negatives: {:d}\".format(cm[\"fn\"]))\n",
    "    print(\"**********\")\n",
    "    print(\"Precision: {:.3f}\".format(cm[\"prec\"]))\n",
    "    print(\"Recall:    {:.3f}\".format(cm[\"rec\"]))\n",
    "    print(\"****************************\")\n",
    "\n",
    "cm = confusion_matrix(relevant_elements, selected_positives, number_possible_pairs)\n",
    "print_confusion_matrix(cm)"
   ]
  },
  {
   "cell_type": "code",
   "execution_count": 10,
   "metadata": {},
   "outputs": [
    {
     "data": {
      "application/vnd.jupyter.widget-view+json": {
       "model_id": "f78fa4f7ef354657b95c01088e16dc95",
       "version_major": 2,
       "version_minor": 0
      },
      "text/plain": [
       "HBox(children=(IntProgress(value=0, max=20), HTML(value='')))"
      ]
     },
     "metadata": {},
     "output_type": "display_data"
    },
    {
     "name": "stdout",
     "output_type": "stream",
     "text": [
      "\n"
     ]
    }
   ],
   "source": [
    "# Super mega hyper fun part (but run the code above first!)\n",
    "import numpy as np\n",
    "import pandas as pd\n",
    "import seaborn as sns\n",
    "from tqdm import tqdm_notebook\n",
    "\n",
    "results = defaultdict(list)\n",
    "\n",
    "#### CONFIG ####\n",
    "threshold = 0.2\n",
    "band_values_to_try = 20\n",
    "################\n",
    "band_values = np.linspace(1, n_hash_functions, band_values_to_try, dtype=int)\n",
    "\n",
    "for bands in tqdm_notebook(band_values):\n",
    "    lsh = LSH(signature_matrix, bands, threshold)\n",
    "    selected_positives = lsh.get_similar()\n",
    "    # Remove similarity. Just keep the pair of indexes\n",
    "    selected_positives = {(x[0], x[1]) for x in selected_positives}\n",
    "    cm = confusion_matrix(relevant_elements, selected_positives, number_possible_pairs)\n",
    "    for key, value in cm.items():\n",
    "        results[key].append(value)\n",
    "    results[\"bands\"].append(bands)\n",
    "    results[\"threshold\"].append(threshold)\n",
    "    \n",
    "df_results = pd.DataFrame(results)"
   ]
  },
  {
   "cell_type": "code",
   "execution_count": 11,
   "metadata": {},
   "outputs": [
    {
     "data": {
      "image/png": "[encoded data removed]",
      "text/plain": [
       "<Figure size 432x288 with 1 Axes>"
      ]
     },
     "metadata": {
      "needs_background": "light"
     },
     "output_type": "display_data"
    }
   ],
   "source": [
    "ax = sns.lineplot(x=\"bands\", y=\"prec\", markers=True, label=\"Precision\", data=df_results)\n",
    "ax = sns.lineplot(x=\"bands\", y=\"rec\", markers=True, label=\"Recall\", data=df_results, ax=ax)"
   ]
  },
  {
   "cell_type": "code",
   "execution_count": 12,
   "metadata": {},
   "outputs": [
    {
     "data": {
      "text/plain": [
       "<matplotlib.axes._subplots.AxesSubplot at 0x7fc547389748>"
      ]
     },
     "execution_count": 12,
     "metadata": {},
     "output_type": "execute_result"
    },
    {
     "data": {
      "image/png": "[encoded data removed]",
      "text/plain": [
       "<Figure size 432x288 with 1 Axes>"
      ]
     },
     "metadata": {
      "needs_background": "light"
     },
     "output_type": "display_data"
    }
   ],
   "source": [
    "sns.barplot(x=\"bands\", y=\"fp\", data=df_results, palette=\"Blues_d\")"
   ]
  }
 ],
 "metadata": {
  "kernelspec": {
   "display_name": "Python 3",
   "language": "python",
   "name": "python3"
  },
  "language_info": {
   "codemirror_mode": {
    "name": "ipython",
    "version": 3
   },
   "file_extension": ".py",
   "mimetype": "text/x-python",
   "name": "python",
   "nbconvert_exporter": "python",
   "pygments_lexer": "ipython3",
   "version": "3.6.6"
  }
 },
 "nbformat": 4,
 "nbformat_minor": 2
}
