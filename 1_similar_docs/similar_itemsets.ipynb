{
 "cells": [
  {
   "cell_type": "code",
   "execution_count": 280,
   "metadata": {},
   "outputs": [],
   "source": [
    "import glob\n",
    "import itertools\n",
    "import os\n",
    "import os.path\n",
    "import random\n",
    "import binascii\n",
    "\n",
    "from collections import defaultdict\n",
    "from functools import reduce"
   ]
  },
  {
   "cell_type": "code",
   "execution_count": 143,
   "metadata": {},
   "outputs": [],
   "source": [
    "corpus_folder = \"./data/test\"\n",
    "test_file_path = \"./data/test/1.txt\""
   ]
  },
  {
   "cell_type": "code",
   "execution_count": 155,
   "metadata": {},
   "outputs": [
    {
     "name": "stdout",
     "output_type": "stream",
     "text": [
      "15075007\n",
      "105998545\n",
      "156340709\n",
      "238835196\n",
      "312708591\n",
      "491853531\n",
      "809500611\n",
      "996668263\n",
      "1648209365\n",
      "2428467314\n",
      "2563917151\n",
      "2726894320\n",
      "2873054939\n",
      "2891092674\n",
      "3478361055\n",
      "3523499602\n",
      "3761386704\n",
      "3881708472\n"
     ]
    }
   ],
   "source": [
    "def file_to_shingles(file_path, shingle_size=2, do_hash=True):\n",
    "    with open(file_path, 'r') as infile:\n",
    "        content = infile.read()\n",
    "        shingles = set()\n",
    "        for i in range(len(content) - shingle_size):\n",
    "            shingle = content[i:i+shingle_size]\n",
    "            shingles.add(\n",
    "                hash_shingle(shingle) if do_hash else shingle\n",
    "            )\n",
    "        return sorted(list(shingles))\n",
    "\n",
    "def hash_shingle(shingle):\n",
    "    \"\"\"Hashes a shingle to a 32bit integer.\n",
    "    \n",
    "    \"\"\"\n",
    "    return binascii.crc32(shingle.encode(\"utf-8\")) & 0xffffffff\n",
    "\n",
    "for shingle in file_to_shingles(test_file_path):\n",
    "    print(shingle)\n",
    "\n",
    "if len(file_to_shingles(test_file_path)) != len(file_to_shingles(test_file_path, do_hash=False)):\n",
    "    print(\"Hey, we have a problem\")"
   ]
  },
  {
   "cell_type": "code",
   "execution_count": 156,
   "metadata": {},
   "outputs": [
    {
     "data": {
      "text/plain": [
       "0.5"
      ]
     },
     "execution_count": 156,
     "metadata": {},
     "output_type": "execute_result"
    }
   ],
   "source": [
    "def jacard_similarity(set_1, set_2):\n",
    "    return len(set_1.intersection(set_2)) / len(set_1.union(set_2))\n",
    "\n",
    "jacard_similarity(set([\"a\",\"b\",\"c\"]), set([\"b\",\"c\",\"d\"]))"
   ]
  },
  {
   "cell_type": "code",
   "execution_count": 182,
   "metadata": {},
   "outputs": [
    {
     "data": {
      "text/plain": [
       "[74223370, 45489653, 215062606]"
      ]
     },
     "execution_count": 182,
     "metadata": {},
     "output_type": "execute_result"
    }
   ],
   "source": [
    "# next prime of 2^32 - 1 is 4294967311\n",
    "# http://compoasso.free.fr/primelistweb/page/prime/liste_online_en.php\n",
    "        \n",
    "class HashStore:\n",
    "    max_shingle_hash = 2**32 - 1\n",
    "    next_prime = 4294967311\n",
    "    \n",
    "    def __init__(self, number_of_hash_functions=100, seed=None):\n",
    "        if seed is not None:\n",
    "            random.seed(seed)\n",
    "        self.n_hash_functions = number_of_hash_functions  # the length of the signature\n",
    "        self.a_coefficients = self.generate_coefficient_list(number_of_hash_functions)\n",
    "        self.b_coefficients = self.generate_coefficient_list(number_of_hash_functions)\n",
    "    \n",
    "    def generate_coefficient_list(self, number_of_coefficients):\n",
    "        # integers in python have arbitrary precision (not applicable to numpy)\n",
    "        # https://mortada.net/can-integer-operations-overflow-in-python.html\n",
    "        coefficients = []\n",
    "        \n",
    "        def random_int():\n",
    "            return random.randint(1, self.max_shingle_hash)\n",
    "        \n",
    "        for _ in range(number_of_coefficients):\n",
    "            candidate = random_int()\n",
    "            while candidate in coefficients:\n",
    "                candidate = random_int()\n",
    "            coefficients.append(candidate)\n",
    "        \n",
    "        return coefficients\n",
    "    \n",
    "    def hash_function(self, function_index, value):\n",
    "        assert function_index < self.n_hash_functions, \"Function index out of range\"\n",
    "        assert type(value) == int, \"Cannot hash strings, yet...\"\n",
    "        a = self.a_coefficients[function_index]\n",
    "        b = self.b_coefficients[function_index]\n",
    "        return (a * value + b) % self.next_prime & 0xffffffff  # not really needed it\n",
    "    \n",
    "    def get_signature(self, set_of_shingles):\n",
    "        signature = []  # needs to keep the order of insertion, the set will not grant it\n",
    "        for i in range(self.n_hash_functions):\n",
    "            signature.append(\n",
    "                min(map(lambda x: self.hash_function(i,x) ,set_of_shingles))\n",
    "            )\n",
    "        return signature\n",
    "    \n",
    "            \n",
    "    \n",
    "shingles_set = file_to_shingles(test_file_path)\n",
    "\n",
    "hash_store = HashStore(3, seed=42)\n",
    "hash_store.hash_function(2,4)\n",
    "hash_store.get_signature(shingles_set)\n"
   ]
  },
  {
   "cell_type": "code",
   "execution_count": 239,
   "metadata": {},
   "outputs": [
    {
     "data": {
      "text/plain": [
       "[[261832257,\n",
       "  611073358,\n",
       "  863505500,\n",
       "  142349659,\n",
       "  209785218,\n",
       "  221352667,\n",
       "  232328098,\n",
       "  296227307,\n",
       "  9573879,\n",
       "  31571753],\n",
       " [415029327,\n",
       "  41758626,\n",
       "  766298946,\n",
       "  142349659,\n",
       "  123742576,\n",
       "  96756300,\n",
       "  388742745,\n",
       "  177270671,\n",
       "  9573879,\n",
       "  204884183],\n",
       " [257595858,\n",
       "  41758626,\n",
       "  224319495,\n",
       "  142349659,\n",
       "  123742576,\n",
       "  96756300,\n",
       "  388742745,\n",
       "  177270671,\n",
       "  9573879,\n",
       "  225197707]]"
      ]
     },
     "execution_count": 239,
     "metadata": {},
     "output_type": "execute_result"
    }
   ],
   "source": [
    "hash_store = HashStore(10, seed=42)\n",
    "file_list = glob.glob(os.path.join(corpus_folder,\"*\"))\n",
    "shingle_sets = list(map(file_to_shingles, file_list))\n",
    "signature_matrix = list(map(hash_store.get_signature , shingle_sets))\n",
    "signature_matrix  # aka list of lists"
   ]
  },
  {
   "cell_type": "code",
   "execution_count": 240,
   "metadata": {},
   "outputs": [
    {
     "data": {
      "text/plain": [
       "[('a', 'b'), ('a', 'c'), ('a', 'd'), ('b', 'c'), ('b', 'd'), ('c', 'd')]"
      ]
     },
     "execution_count": 240,
     "metadata": {},
     "output_type": "execute_result"
    }
   ],
   "source": [
    "asd = [\"a\",\"b\",\"c\",\"d\"]\n",
    "list(itertools.combinations(asd,2))"
   ]
  },
  {
   "cell_type": "code",
   "execution_count": 241,
   "metadata": {},
   "outputs": [
    {
     "name": "stdout",
     "output_type": "stream",
     "text": [
      "0.11428571428571428\n",
      "0.11428571428571428\n",
      "0.6363636363636364\n"
     ]
    }
   ],
   "source": [
    "for set1, set2 in itertools.combinations(shingle_sets,2):\n",
    "#     print(set1,set2)\n",
    "    print(jacard_similarity(set(set1),set(set2)))  "
   ]
  },
  {
   "cell_type": "code",
   "execution_count": 242,
   "metadata": {},
   "outputs": [
    {
     "data": {
      "text/plain": [
       "0.2"
      ]
     },
     "execution_count": 242,
     "metadata": {},
     "output_type": "execute_result"
    }
   ],
   "source": [
    "sign1, sign2 = signature_matrix[0], signature_matrix[2]\n",
    "\n",
    "def compare_signatures(sign1, sign2):\n",
    "    assert len(sign1) == len(sign2)\n",
    "    # this is one liner in numpy, but we decided to use only plain python\n",
    "    # also with numpy we must pay attention to not overflow when calculating\n",
    "    # the hashes\n",
    "    return sum([x == y for x,y in zip(sign1, sign2)]) / len(sign1)\n",
    "\n",
    "compare_signatures(sign1,sign2)"
   ]
  },
  {
   "cell_type": "code",
   "execution_count": 243,
   "metadata": {},
   "outputs": [
    {
     "name": "stdout",
     "output_type": "stream",
     "text": [
      "0.2\n",
      "0.2\n",
      "0.7\n"
     ]
    }
   ],
   "source": [
    "for sign1, sign2 in itertools.combinations(signature_matrix,2):\n",
    "#     print(set1,set2)\n",
    "    print(compare_signatures(sign1,sign2))  "
   ]
  },
  {
   "cell_type": "code",
   "execution_count": 253,
   "metadata": {},
   "outputs": [
    {
     "data": {
      "text/plain": [
       "[[261832257,\n",
       "  611073358,\n",
       "  863505500,\n",
       "  142349659,\n",
       "  209785218,\n",
       "  221352667,\n",
       "  232328098,\n",
       "  296227307,\n",
       "  9573879,\n",
       "  31571753],\n",
       " [415029327,\n",
       "  41758626,\n",
       "  766298946,\n",
       "  142349659,\n",
       "  123742576,\n",
       "  96756300,\n",
       "  388742745,\n",
       "  177270671,\n",
       "  9573879,\n",
       "  204884183],\n",
       " [257595858,\n",
       "  41758626,\n",
       "  224319495,\n",
       "  142349659,\n",
       "  123742576,\n",
       "  96756300,\n",
       "  388742745,\n",
       "  177270671,\n",
       "  9573879,\n",
       "  225197707]]"
      ]
     },
     "execution_count": 253,
     "metadata": {},
     "output_type": "execute_result"
    }
   ],
   "source": [
    "signature_matrix"
   ]
  },
  {
   "cell_type": "code",
   "execution_count": 318,
   "metadata": {},
   "outputs": [
    {
     "data": {
      "text/plain": [
       "{(1, 2, 0.7)}"
      ]
     },
     "execution_count": 318,
     "metadata": {},
     "output_type": "execute_result"
    }
   ],
   "source": [
    "class LSH:\n",
    "    def __init__(self, signature_matrix, bands, threshold = 0.5):\n",
    "        # using only bands because the bands * rows = len(signature)\n",
    "        self.signature_matrix = signature_matrix\n",
    "        self.bands = bands\n",
    "        # the last band, if not completed, is hashed anyway\n",
    "        self.signature_length = len(self.signature_matrix[0])\n",
    "        \n",
    "        assert self.signature_length > self.bands\n",
    "        self.rows = self.signature_length // self.bands\n",
    "        \n",
    "        self.threshold = threshold\n",
    "    \n",
    "    def hash_band_item(self, band):\n",
    "        return reduce(lambda x,y : \"{}{}\".format(x,y), band)\n",
    "        \n",
    "    def get_band_item(self, band_index, doc_index):\n",
    "        start_index = band_index * self.rows\n",
    "        end_index = min((band_index + 1) * self.rows, self.signature_length)\n",
    "        assert start_index < end_index\n",
    "        return self.signature_matrix[doc_index][start_index : end_index]\n",
    "    \n",
    "    def get_band_candidates(self, band_index):\n",
    "        hash_table = defaultdict(list)\n",
    "        for doc_index in range(len(self.signature_matrix)) :\n",
    "            band_item = self.get_band_item(band_index, doc_index)\n",
    "            hash_table[self.hash_band_item(band_item)].append(doc_index)\n",
    "        \n",
    "        candidates = []\n",
    "        for values in hash_table.values():\n",
    "            if len(values) > 1:\n",
    "                candidates += list(itertools.combinations(sorted(values),2))  # get the list of candidate PAIRS\n",
    "        return set(candidates)  # unique pairs\n",
    "    \n",
    "    def get_candidates(self):\n",
    "        candidates = set()\n",
    "        for i in range(self.bands):\n",
    "            candidates = candidates.union(self.get_band_candidates(i))\n",
    "        return candidates\n",
    "    \n",
    "    def get_similar(self):\n",
    "        similar_docs = set()\n",
    "        candidates = self.get_candidates()\n",
    "        for doc_index_1, doc_index_2 in candidates:\n",
    "            sign1, sign2 = signature_matrix[doc_index_1], signature_matrix[doc_index_2]\n",
    "            similarity = compare_signatures(sign1, sign2)\n",
    "            if similarity > self.threshold:\n",
    "                similar_docs.add((doc_index_1,doc_index_2,similarity))\n",
    "        return similar_docs\n",
    "                \n",
    "        \n",
    "    \n",
    "lsh = LSH(signature_matrix,5,0.5)    \n",
    "lsh.rows\n",
    "lsh.get_band_item(1,2)\n",
    "lsh.hash_band_item(lsh.get_band_item(1,2))\n",
    "lsh.get_similar()"
   ]
  }
 ],
 "metadata": {
  "kernelspec": {
   "display_name": "Python 3",
   "language": "python",
   "name": "python3"
  },
  "language_info": {
   "codemirror_mode": {
    "name": "ipython",
    "version": 3
   },
   "file_extension": ".py",
   "mimetype": "text/x-python",
   "name": "python",
   "nbconvert_exporter": "python",
   "pygments_lexer": "ipython3",
   "version": "3.5.2"
  }
 },
 "nbformat": 4,
 "nbformat_minor": 2
}
