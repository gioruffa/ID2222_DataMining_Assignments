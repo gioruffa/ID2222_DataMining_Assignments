{
 "cells": [
  {
   "cell_type": "code",
   "execution_count": 239,
   "metadata": {},
   "outputs": [],
   "source": [
    "import binascii\n",
    "import copy\n",
    "import networkx as nx\n",
    "import matplotlib.pyplot as plt\n",
    "import mmh3\n",
    "import random\n",
    "\n",
    "from collections import defaultdict\n",
    "from networkx import Graph, DiGraph"
   ]
  },
  {
   "cell_type": "markdown",
   "metadata": {},
   "source": [
    "## Exact-Counter"
   ]
  },
  {
   "cell_type": "markdown",
   "metadata": {},
   "source": [
    "We first implement an exact counter using python sets in order to verify the correctness of the hyperball algorithm."
   ]
  },
  {
   "cell_type": "code",
   "execution_count": 2,
   "metadata": {},
   "outputs": [],
   "source": [
    "class Counter:\n",
    "    \n",
    "    def __init__(self, initial=None):\n",
    "        self.distincts = set() if not initial else initial\n",
    "        \n",
    "    def add(self, node):\n",
    "        self.distincts.add(node)\n",
    "        \n",
    "    def value(self):\n",
    "        return len(self.distincts)\n",
    "    \n",
    "    def union(self, other):\n",
    "        return Counter(self.distincts.union(other.distincts))\n",
    "        \n",
    "    def __str__(self):\n",
    "        return 'Counter has value {}'.format(self.value())\n",
    "    \n",
    "    def __repr__(self):\n",
    "        return str(self.value())"
   ]
  },
  {
   "cell_type": "code",
   "execution_count": 3,
   "metadata": {},
   "outputs": [
    {
     "name": "stdout",
     "output_type": "stream",
     "text": [
      "Counter has value 100\n"
     ]
    }
   ],
   "source": [
    "counter = Counter()\n",
    "for i in range(100):\n",
    "    counter.add(i)\n",
    "print(counter)"
   ]
  },
  {
   "cell_type": "markdown",
   "metadata": {},
   "source": [
    "## Flajolet-Martin"
   ]
  },
  {
   "cell_type": "code",
   "execution_count": 286,
   "metadata": {},
   "outputs": [
    {
     "name": "stdout",
     "output_type": "stream",
     "text": [
      "0b10000000000\n",
      "[9, 12, 9, 10, 8, 10, 8, 9, 9, 6, 10, 11, 10, 10, 10, 9, 14, 15, 10, 12, 10, 11, 14, 8, 9, 11, 14, 10, 13, 14, 13, 12, 14, 12, 9, 14, 11, 8, 9, 11, 8, 11, 11, 7, 13, 10, 13, 15, 9, 11, 10, 10, 8, 10, 10, 10, 10, 12, 9, 8, 10, 10, 15, 9, 8, 3, 10, 11, 7, 9, 9, 10, 10, 11, 6, 13, 10, 13, 10, 10, 12, 9, 11, 8, 14, 14, 15, 12, 13, 9, 11, 11, 8, 11, 12, 9, 10, 10, 9, 12]\n",
      "size of a split: 20\n",
      "[792.07424, 1584.14848, 792.07424, 792.07424, 1584.14848]\n",
      "Expected 1024, obtained 1108.9039360000002\n",
      "0\n"
     ]
    }
   ],
   "source": [
    "class FMCounter:\n",
    "    \n",
    "    def __init__(self, n_hashing_functions=100, bit_string_length=16, n_splits=10, initial=None):\n",
    "        self.Rs = [0 for _ in range(n_hashing_functions)] if not initial else initial  # following mmds \n",
    "        self.modulus = 2**(bit_string_length + 1) - 1\n",
    "        self.bit_string_length = bit_string_length\n",
    "        self.coefficients_a = self._generate_coefficient_list(n_hashing_functions)\n",
    "        self.coefficients_b = self._generate_coefficient_list(n_hashing_functions)\n",
    "        self.n_splits = n_splits\n",
    "        \n",
    "    def _generate_coefficient_list(self, number_of_coefficients):\n",
    "        # integers in python have arbitrary precision (not applicable to numpy)\n",
    "        # https://mortada.net/can-integer-operations-overflow-in-python.html\n",
    "        coefficients = []\n",
    "        \n",
    "        def random_int():\n",
    "            return random.randint(0,self.modulus - 1)\n",
    "        \n",
    "        for _ in range(number_of_coefficients):\n",
    "            candidate = random_int()\n",
    "            while candidate in coefficients:\n",
    "                candidate = random_int()\n",
    "            coefficients.append(candidate)\n",
    "        \n",
    "        return coefficients\n",
    "    \n",
    "    def _hash(self, node_id, a, b):\n",
    "        to_hash = 0 \n",
    "        if type(node_id) == str:\n",
    "            to_hash = binascii.crc32(node_id.encode(\"utf-8\"))\n",
    "        elif type(node_id) == int:\n",
    "            to_hash = node_id\n",
    "        else:\n",
    "            raise ValueError()\n",
    "        return (to_hash * a + b ) % self.modulus\n",
    "    \n",
    "    def _count_trailing_zeros(self, value):\n",
    "        for i in range(self.bit_string_length):\n",
    "            if value & (1 << i) != 0:\n",
    "                return i\n",
    "        return self.bit_string_length  # 2^-self.bit_string_lenght chances of being here\n",
    "            \n",
    "    def add(self, node):\n",
    "        for i in range(len(self.Rs)):\n",
    "            a = self.coefficients_a[i]\n",
    "            b = self.coefficients_b[i]\n",
    "            self.Rs[i] = max(\n",
    "                self._count_trailing_zeros(self._hash(node, a, b)), \n",
    "                self.Rs[i]\n",
    "            )\n",
    "    \n",
    "    def value(self):\n",
    "        # compute the average of each split\n",
    "        r_in_each_split = len(self.Rs) // self.n_splits \n",
    "        print(\"size of a split: {}\".format(r_in_each_split))\n",
    "        split_medians = []\n",
    "        for i in range(self.n_splits):\n",
    "            start = i*r_in_each_split\n",
    "            end = start + r_in_each_split\n",
    "            split_content = self.Rs[ start : min(len(self.Rs), end)]\n",
    "            split_content_empirical = [2 ** x * 0.77351 for x in split_content]\n",
    "            split_medians.append(\n",
    "                sorted(split_content_empirical)[len(split_content_empirical)//2]\n",
    "            )\n",
    "        print(split_medians)\n",
    "        return sum(split_medians) / len(split_medians)\n",
    "#         return 2 ** sorted(split_averages)[len(split_averages)//2]\n",
    "#         return 2 ** (sum(self.Rs)/len(self.Rs))\n",
    "        \n",
    "#     def value(self):\n",
    "#         return len(self.distincts)\n",
    "    \n",
    "#     def union(self, other):\n",
    "#         return Counter(self.distincts.union(other.distincts))\n",
    "        \n",
    "#     def __str__(self):\n",
    "#         return 'Counter has value {}'.format(self.value())\n",
    "    \n",
    "#     def __repr__(self):\n",
    "#         return str(self.value())\n",
    "\n",
    "value = 2**10\n",
    "print(bin(value))\n",
    "counter = FMCounter(n_hashing_functions=100, n_splits=5, bit_string_length=16)\n",
    "for i in range(value):\n",
    "    counter.add(i)\n",
    "print(counter.Rs)\n",
    "print(\"Expected {}, obtained {}\".format(value, counter.value()))\n",
    "print(len([x for x in counter.Rs if x == 0]))\n"
   ]
  },
  {
   "cell_type": "code",
   "execution_count": 241,
   "metadata": {},
   "outputs": [
    {
     "name": "stdout",
     "output_type": "stream",
     "text": [
      "Total words: 83494\n"
     ]
    }
   ],
   "source": [
    "with open(\"shakespear.txt\", 'r') as shakespear:\n",
    "    words = set()\n",
    "    for line in shakespear:\n",
    "        for word in line.split(\" \"):\n",
    "            words.add(word.lower())\n",
    "    print(\"Total words: {}\".format(len(words)))"
   ]
  },
  {
   "cell_type": "code",
   "execution_count": 287,
   "metadata": {},
   "outputs": [
    {
     "name": "stdout",
     "output_type": "stream",
     "text": [
      "size of a split: 10\n",
      "[202771.00544, 50692.75136, 101385.50272, 50692.75136, 50692.75136, 50692.75136, 202771.00544, 101385.50272, 101385.50272, 101385.50272]\n",
      "Total words: 101385.50272\n"
     ]
    }
   ],
   "source": [
    "with open(\"shakespear.txt\", 'r') as shakespear:\n",
    "    words = FMCounter(n_hashing_functions=100, n_splits=10, bit_string_length=20)\n",
    "    for line in shakespear:\n",
    "        for word in line.split(\" \"):\n",
    "            words.add(word.lower())\n",
    "    print(\"Total words: {}\".format(words.value()))"
   ]
  },
  {
   "cell_type": "code",
   "execution_count": 244,
   "metadata": {},
   "outputs": [
    {
     "name": "stdout",
     "output_type": "stream",
     "text": [
      "Total words: 84073\n"
     ]
    }
   ],
   "source": [
    "import hyperloglog\n",
    "with open(\"shakespear.txt\", 'r') as shakespear:\n",
    "    words  = hyperloglog.HyperLogLog(0.01)\n",
    "    for line in shakespear:\n",
    "        for word in line.split(\" \"):\n",
    "            words.add(word.lower())\n",
    "    print(\"Total words: {}\".format(len(words)))"
   ]
  },
  {
   "cell_type": "code",
   "execution_count": null,
   "metadata": {},
   "outputs": [],
   "source": [
    "\n"
   ]
  },
  {
   "cell_type": "code",
   "execution_count": 249,
   "metadata": {},
   "outputs": [],
   "source": [
    "import random\n",
    "import mmh3\n",
    "\n",
    "def median(lst):\n",
    "    even = (0 if len(lst) % 2 else 1) + 1\n",
    "    half = (len(lst) - 1) // 2\n",
    "    return sum(sorted(lst)[half:half + even]) / float(even)\n",
    "\n",
    "class HashFunction:\n",
    "    def __init__(self, seed):\n",
    "        self.func = lambda x: (mmh3.hash(x, seed=seed) % 2**20) + 1\n",
    "        self.max_tail_count = 0\n",
    "\n",
    "class HashGroup:\n",
    "    def __init__(self, num_hashes_in_group = 10):\n",
    "        self.hash_functions = []\n",
    "        for i in range(num_hashes_in_group):\n",
    "            self.hash_functions.append(HashFunction(random.randint(1,10000)))\n",
    "\n",
    "class FlajoletMartinCounter:\n",
    "    def __init__(self, num_hash_groups = 10, num_hashes_in_group = 10):\n",
    "        self.hash_groups = []\n",
    "        for i in range(num_hash_groups):\n",
    "            self.hash_groups.append(HashGroup(num_hashes_in_group))\n",
    "    \n",
    "    def trailing_zeroes(self, num):\n",
    "        \"\"\"Counts the number of trailing 0 bits in num.\"\"\"\n",
    "        if num == 0:\n",
    "            return 32 # Assumes 32 bit integer inputs!\n",
    "        p = 0\n",
    "        while (num >> p) & 1 == 0:\n",
    "            p += 1\n",
    "        return p\n",
    "    \n",
    "    def process(self, element):\n",
    "        for g in self.hash_groups:\n",
    "            for f in g.hash_functions:\n",
    "                h = f.func(element)\n",
    "                \n",
    "                tail_count = self.trailing_zeroes(h)\n",
    "                \n",
    "                if tail_count > f.max_tail_count:\n",
    "                    f.max_tail_count = tail_count\n",
    "    \n",
    "    def give_estimate(self):\n",
    "        estimate_pr_group = []\n",
    "        for g in self.hash_groups:\n",
    "            estimate_in_group = []\n",
    "            for f in g.hash_functions:\n",
    "                estimate_in_group.append(2 ** f.max_tail_count * 0.77351)\n",
    "            estimate_pr_group.append(median(estimate_in_group))\n",
    "        return 1.0*sum(estimate_pr_group) / len(estimate_pr_group)"
   ]
  },
  {
   "cell_type": "code",
   "execution_count": 266,
   "metadata": {},
   "outputs": [
    {
     "name": "stdout",
     "output_type": "stream",
     "text": [
      "Expected 1024, obtained 712.8668160000001\n"
     ]
    }
   ],
   "source": [
    "counter = FlajoletMartinCounter(num_hash_groups = 10, num_hashes_in_group = 10)\n",
    "for i in range(value):\n",
    "    counter.process(str(i))\n",
    "print(\"Expected {}, obtained {}\".format(value, counter.give_estimate()))\n",
    "\n",
    "\n"
   ]
  },
  {
   "cell_type": "code",
   "execution_count": 268,
   "metadata": {},
   "outputs": [
    {
     "name": "stdout",
     "output_type": "stream",
     "text": [
      "Total words: 64633.257984\n"
     ]
    }
   ],
   "source": [
    "with open(\"shakespear.txt\", 'r') as shakespear:\n",
    "    words  = FlajoletMartinCounter(num_hash_groups = 10, num_hashes_in_group = 10)\n",
    "    for line in shakespear:\n",
    "        for word in line.split(\" \"):\n",
    "            words.process(word.lower())\n",
    "    print(\"Total words: {}\".format(words.give_estimate()))"
   ]
  },
  {
   "cell_type": "code",
   "execution_count": null,
   "metadata": {},
   "outputs": [],
   "source": []
  },
  {
   "cell_type": "markdown",
   "metadata": {},
   "source": [
    "## Hyperball"
   ]
  },
  {
   "cell_type": "code",
   "execution_count": 4,
   "metadata": {},
   "outputs": [],
   "source": [
    "test_graph = nx.read_edgelist('test_graph.edgelist', create_using=DiGraph, edgetype=str)\n",
    "florida_graph = nx.read_weighted_edgelist('florida-ecosystem-dry.edgelist',\n",
    "                                          comments='%', create_using=DiGraph)\n",
    "# air_graph = nx.read_edgelist('air-traffic-control.edgelist', \n",
    "#                              comments='%', create_using=DiGraph)"
   ]
  },
  {
   "cell_type": "code",
   "execution_count": 5,
   "metadata": {},
   "outputs": [
    {
     "data": {
      "image/png": "[encoded data removed]",
      "text/plain": [
       "<Figure size 1080x360 with 2 Axes>"
      ]
     },
     "metadata": {
      "needs_background": "light"
     },
     "output_type": "display_data"
    }
   ],
   "source": [
    "f = plt.figure(figsize=(15, 5))\n",
    "ax = f.add_subplot(121)\n",
    "nx.draw_networkx(test_graph)\n",
    "plt.title('Original')\n",
    "ax2 = f.add_subplot(122)\n",
    "nx.draw_networkx(test_graph.reverse())\n",
    "plt.title('Reversed')\n",
    "plt.show()"
   ]
  },
  {
   "cell_type": "markdown",
   "metadata": {},
   "source": [
    "### Why reverting the graph\n",
    "\n",
    "The nodes _coreachable_ from $x$ are the nodes $y$ such that $d(y,x) < \\infty$ (i.e., nodes from which is possible to travel to $x$). On the other hand we define the ball of radius $r$ around $x$ as:\n",
    "\n",
    "$$\n",
    "\\mathscr{B}_G(x,r) = \\{y|d(x,y) \\le r\\}\n",
    "$$\n",
    "\n",
    "For example, in the previous graph (original), the coreachable nodes from $z$ are $\\{x, y\\}$. If we invert the graph, the $\\mathscr{B}_G(z,r) = \\{x, y\\}$ when $r$ is large enough.\n",
    "\n",
    "This measure (coreachables nodes) is usefull to compute some centrality measures, such as the _harmonic closeness_.  "
   ]
  },
  {
   "cell_type": "markdown",
   "metadata": {},
   "source": [
    "### Streaming implementation\n",
    "\n",
    "To comply with the assignment's requirements, we implemented the Hyperball in a streaming fashion where the edges are ingested sequentially. Note that in order for the algorithm to work, we need sequential complete iterations over all the edges of the graph."
   ]
  },
  {
   "cell_type": "code",
   "execution_count": 6,
   "metadata": {},
   "outputs": [],
   "source": [
    "def graph_stream(graph):\n",
    "    for edge in graph.edges:\n",
    "        x, y = edge\n",
    "        yield x, y"
   ]
  },
  {
   "cell_type": "markdown",
   "metadata": {},
   "source": [
    "### Algorithm\n",
    "\n",
    "Basic idea:\n",
    "\n",
    "$$\n",
    "\\begin{align*}\n",
    "\\mathscr{B}_G(x,0) &= \\{x\\}\\\\\n",
    "\\mathscr{B}_G(x,r + 1) &= \\bigcup_{x \\rightarrow y} \\mathscr{B}_G(y,r) \\cup \\{x\\}\n",
    "\\end{align*}\n",
    "$$\n",
    "\n",
    "This is, the ball of radius $r$ around $x$ is the union of the balls of radius $r-1$ around the closest neighbors and $x$ itselft (to take into account the directionality of the graph).\n",
    "\n",
    "Hyperball starts computing the balls of radius 0 around each one of the nodes. Then, in an iterative manner, computes the nodes contained in a ball of radius $t$ around $v$, doing the union of the nodes contained in the balls of radius $t-1$ centered on the neighbors of $v$.\n",
    "\n",
    "For this reason we need to support the union operation between counters.\n",
    "\n",
    "### Centralities\n",
    "\n",
    "We can rewrite the _peripherality_ of node $x$ in terms of balls as follows: \n",
    "\n",
    "$$\n",
    "\\begin{align*}\n",
    "\\sum_{y} d(y,x) &= \\sum_{t>0} t | \\{y|d(y,x)=t\\} |\\\\\n",
    "&= \\sum_{t>0} t \\left( |\\mathscr{B}_{G^T}(x,t)| - |\\mathscr{B}_{G^T}(x,t-1)| \\right)\n",
    "\\end{align*}\n",
    "$$\n",
    "\n",
    "For a given $t$, $\\{y|d(y,x)=t\\}$ are the nodes at distance $t$ from $x$. \n",
    "\n",
    "$t|\\{y|d(y,x)=t\\}|$ is the sum of their distances.\n",
    "\n",
    "$\\sum_{t>0} t |\\{y|d(y,x)=t\\}|$ is the sum over all the spheres of increasing radius.\n",
    "\n",
    "\n",
    "Similarly, we can define the _harmonic centrality_ as follows:\n",
    "\n",
    "$$\n",
    "\\begin{align*}\n",
    "\\sum_{y \\ne x} \\frac{1}{d(y,x)} &= \\sum_{t>0} \\frac{1}{t} | \\{y|d(y,x)=t\\} |\\\\\n",
    "&= \\sum_{t>0} \\frac{1}{t} \\left( |\\mathscr{B}_{G^T}(x,t)| - |\\mathscr{B}_{G^T}(x,t-1)| \\right)\n",
    "\\end{align*}\n",
    "$$\n",
    "\n",
    "The harmonic centrality has the feature of automatically dealing with unconected components, and is considered to yield a better ranking for central nodes."
   ]
  },
  {
   "cell_type": "code",
   "execution_count": 15,
   "metadata": {},
   "outputs": [],
   "source": [
    "def hyperball(graph, counter_type=Counter):\n",
    "    \n",
    "    # c is an array if counters for each vertex\n",
    "    c = defaultdict(counter_type)\n",
    "    harmonic_closeness = defaultdict(float)\n",
    "    \n",
    "    # balls of radius 0 around each vertex\n",
    "    for v in graph.nodes:\n",
    "        c[v].add(v)\n",
    "\n",
    "    t = 0\n",
    "    while True:\n",
    "        counter_changed = False\n",
    "        # c is updated asynchronously so we need to keep a copy of the old counters\n",
    "        # in order to correctly compute the unions\n",
    "        c_old = copy.deepcopy(c)\n",
    "        for v, w in graph_stream(graph):\n",
    "            # a is the current updated version of the counter of the vertex\n",
    "            a = c[v]\n",
    "            # we need to combine with the previous of the counter to avoid leaking\n",
    "            # partial results because the edges are not granted to be processed in order\n",
    "            new_counter = a.union(c_old[w])\n",
    "            # check if counters stabilize\n",
    "            counter_changed |= new_counter.value() != a.value()\n",
    "            c[v] = new_counter\n",
    "        # At this point, we are sure that all the edges have been processed and we can\n",
    "        # update the armonic closeness. Only once per vertex\n",
    "        for v in c.keys():\n",
    "            harmonic_closeness[v] += (c[v].value() - c_old[v].value()) / (t + 1)\n",
    "        t += 1\n",
    "        if not counter_changed:\n",
    "            break\n",
    "            \n",
    "    return c, harmonic_closeness, t"
   ]
  },
  {
   "cell_type": "code",
   "execution_count": 13,
   "metadata": {},
   "outputs": [],
   "source": [
    "def actual_harmonic_closeness(graph):\n",
    "    actual_harmonic = {node: 0.0 for node in graph.nodes}\n",
    "    for x in nx.nodes(graph):\n",
    "        for y in nx.nodes(graph):\n",
    "            if x != y:\n",
    "                try:\n",
    "                    sp = nx.shortest_path(graph, y, x)\n",
    "                    sp = float(len(sp) - 1)\n",
    "                    actual_harmonic[x] += 1 / sp\n",
    "                except:\n",
    "                    # Never ever do this\n",
    "                    pass\n",
    "    return actual_harmonic"
   ]
  },
  {
   "cell_type": "markdown",
   "metadata": {},
   "source": [
    "In order to verify the correctness of the algorithm we compare the results with a \"brute force\" implementation of the harmonic closeness that uses the standard definition with complexity $O(n^2)$.\n",
    "\n",
    "To avoid probability fluctuations, we use a naive set counter. "
   ]
  },
  {
   "cell_type": "code",
   "execution_count": 16,
   "metadata": {},
   "outputs": [],
   "source": [
    "h_counters, h_harmonic, h_t = hyperball(test_graph.reverse(), counter_type=Counter)\n",
    "harmonic = actual_harmonic_closeness(test_graph)"
   ]
  },
  {
   "cell_type": "code",
   "execution_count": 17,
   "metadata": {},
   "outputs": [],
   "source": [
    "def mean_squared_error(dict1, dict2):\n",
    "    assert len(dict1) == len(dict2)\n",
    "    m = len(dict1)\n",
    "    error = 0\n",
    "    for k, v in dict1.items():\n",
    "        error += abs(v - dict2[k])**2\n",
    "    return error / m"
   ]
  },
  {
   "cell_type": "code",
   "execution_count": 18,
   "metadata": {},
   "outputs": [
    {
     "name": "stdout",
     "output_type": "stream",
     "text": [
      "MSE is 0.0\n"
     ]
    }
   ],
   "source": [
    "print('MSE is', mean_squared_error(h_harmonic, harmonic))"
   ]
  },
  {
   "cell_type": "markdown",
   "metadata": {},
   "source": [
    "## Optional\n",
    "\n",
    "**1. What were the challenges you have faced when implementing the algorithm?**\n",
    "\n",
    "The main challenge was dealing correcly with the update of the counters. Meaning that the union must always be computed between the updated version of the current node counter and the old version of the neighbor counter. We need to keep a complete copy of the previous counters while updating the new ones, hence occupying twice the memory. The original algorith from Boldi and Vigna stores the temporary counters on disk and update them at the end of the full iteration.\n",
    "\n",
    "**2. Can the algorithm be easily parallelized? If yes, how? If not, why? Explain.**\n",
    "\n"
   ]
  },
  {
   "cell_type": "code",
   "execution_count": null,
   "metadata": {},
   "outputs": [],
   "source": []
  }
 ],
 "metadata": {
  "kernelspec": {
   "display_name": "Python 3",
   "language": "python",
   "name": "python3"
  },
  "language_info": {
   "codemirror_mode": {
    "name": "ipython",
    "version": 3
   },
   "file_extension": ".py",
   "mimetype": "text/x-python",
   "name": "python",
   "nbconvert_exporter": "python",
   "pygments_lexer": "ipython3",
   "version": "3.5.2"
  }
 },
 "nbformat": 4,
 "nbformat_minor": 2
}
