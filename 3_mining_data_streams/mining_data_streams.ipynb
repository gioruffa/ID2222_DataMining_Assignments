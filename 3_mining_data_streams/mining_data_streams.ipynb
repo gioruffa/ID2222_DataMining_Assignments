{
 "cells": [
  {
   "cell_type": "markdown",
   "metadata": {},
   "source": [
    "Authors: Fernando Díaz González and Giorgio Ruffa\n",
    "{fdiaz, ruffa}@kth.se\n",
    "\n",
    "ID 2222 Data Mining. Assignment 2"
   ]
  },
  {
   "cell_type": "markdown",
   "metadata": {},
   "source": [
    "# Mining Data Streams"
   ]
  },
  {
   "cell_type": "code",
   "execution_count": 1,
   "metadata": {},
   "outputs": [],
   "source": [
    "import binascii\n",
    "import copy\n",
    "import networkx as nx\n",
    "import matplotlib.pyplot as plt\n",
    "import random\n",
    "\n",
    "from collections import defaultdict\n",
    "from networkx import Graph, DiGraph"
   ]
  },
  {
   "cell_type": "markdown",
   "metadata": {},
   "source": [
    "## Exact-Counter"
   ]
  },
  {
   "cell_type": "markdown",
   "metadata": {},
   "source": [
    "We first implement an exact counter using python sets in order to verify the correctness of the hyperball algorithm."
   ]
  },
  {
   "cell_type": "code",
   "execution_count": 29,
   "metadata": {},
   "outputs": [],
   "source": [
    "class Counter:\n",
    "    \n",
    "    def __init__(self, initial=None):\n",
    "        self.distincts = set() if not initial else initial\n",
    "        \n",
    "    def add(self, node):\n",
    "        self.distincts.add(node)\n",
    "        \n",
    "    def value(self):\n",
    "        return len(self.distincts)\n",
    "    \n",
    "    def union(self, other):\n",
    "        return Counter(self.distincts.union(other.distincts))\n",
    "        \n",
    "    def __str__(self):\n",
    "        return 'Counter has value {}'.format(self.value())\n",
    "    \n",
    "    def __repr__(self):\n",
    "        return str(self.value())"
   ]
  },
  {
   "cell_type": "code",
   "execution_count": 30,
   "metadata": {},
   "outputs": [
    {
     "name": "stdout",
     "output_type": "stream",
     "text": [
      "Counter has value 100\n"
     ]
    }
   ],
   "source": [
    "counter = Counter()\n",
    "for i in range(100):\n",
    "    counter.add(i)\n",
    "print(counter)"
   ]
  },
  {
   "cell_type": "markdown",
   "metadata": {},
   "source": [
    "## Flajolet-Martin\n",
    "\n",
    "The basic idea is to hash the elements of the stream to a bit-string that is sufficiently long ($log_2(N)$ where $N$ is the number of distinct elements in the stream). The more distinct values that we see, the more different hash-values we shall see, and it becomes more likely that one of this hash-values will be \"unusual\". This unusual property is the hash ending in many 0's.\n",
    "\n",
    "It is clear that, given all the possible hash-values:\n",
    "* $1/2$ of them end in 1 zeros.\n",
    "* $1/4$ of them end in 2 zeros.\n",
    "\n",
    "$\\vdots$\n",
    "* $1/2^i$ of them end in $i$ zeros.\n",
    "\n",
    "This mean that we would need to hash $i$ different elements to see a hash ending in $i$ zeros. Then, we can approximate the number of distinct elements seen as $2^R$, where $R$ is the maximum tail length of any hash seen.\n",
    "\n",
    "We can combine various estimates to reduce the error. By default, our counter uses 100 different hash functions which are grouped in 10 groups. We take the average (of $R$) of these groups to finally take the median of the averages as our final estimation."
   ]
  },
  {
   "cell_type": "code",
   "execution_count": 4,
   "metadata": {},
   "outputs": [],
   "source": [
    "class FMCounter:\n",
    "    \n",
    "    def __init__(self, n_hashing_functions=100, bit_string_length=16, n_splits=10, initial=None):\n",
    "        self.Rs = [0 for _ in range(n_hashing_functions)] if not initial else initial  # following mmds\n",
    "        self.n_hashing_functions = n_hashing_functions\n",
    "        self.bit_string_length = bit_string_length\n",
    "        self.n_splits = n_splits\n",
    "        self.modulus = 2**(bit_string_length + 1) - 1\n",
    "        self.coefficients_a = self._generate_coefficient_list(n_hashing_functions)\n",
    "        self.coefficients_b = self._generate_coefficient_list(n_hashing_functions)\n",
    "        \n",
    "    def _generate_coefficient_list(self, number_of_coefficients):\n",
    "        # integers in python have arbitrary precision (not applicable to numpy)\n",
    "        # https://mortada.net/can-integer-operations-overflow-in-python.html\n",
    "        coefficients = []\n",
    "        \n",
    "        def random_int():\n",
    "            return random.randint(0,self.modulus - 1)\n",
    "        \n",
    "        for _ in range(number_of_coefficients):\n",
    "            candidate = random_int()\n",
    "            while candidate in coefficients:\n",
    "                candidate = random_int()\n",
    "            coefficients.append(candidate)\n",
    "        \n",
    "        return coefficients\n",
    "    \n",
    "    def _hash(self, node_id, a, b):\n",
    "        # a != b\n",
    "        to_hash = 0 \n",
    "        if type(node_id) == str:\n",
    "            to_hash = binascii.crc32(node_id.encode(\"utf-8\"))\n",
    "        elif type(node_id) == int:\n",
    "            to_hash = node_id\n",
    "        else:\n",
    "            raise ValueError()\n",
    "        return (to_hash * a + b ) % self.modulus\n",
    "    \n",
    "    def _count_trailing_zeros(self, value):\n",
    "        for i in range(self.bit_string_length):\n",
    "            if value & (1 << i) != 0:\n",
    "                return i\n",
    "        return self.bit_string_length  # 2^-self.bit_string_lenght chances of being here\n",
    "            \n",
    "    def add(self, node):\n",
    "        for i in range(len(self.Rs)):\n",
    "            a = self.coefficients_a[i]\n",
    "            b = self.coefficients_b[i]\n",
    "            self.Rs[i] = max(\n",
    "                self._count_trailing_zeros(self._hash(node, a, b)), \n",
    "                self.Rs[i]\n",
    "            )\n",
    "    \n",
    "    def value(self):\n",
    "        # compute the average of each split\n",
    "        r_in_each_split = len(self.Rs) // self.n_splits\n",
    "        split_medians = []\n",
    "        for i in range(self.n_splits):\n",
    "            start = i*r_in_each_split\n",
    "            end = start + r_in_each_split\n",
    "            split_content = self.Rs[ start : min(len(self.Rs), end)]\n",
    "            split_content_empirical = [2 ** x * 0.77351 for x in split_content]\n",
    "            split_medians.append(\n",
    "                sorted(split_content_empirical)[len(split_content_empirical)//2]\n",
    "            )\n",
    "        return sum(split_medians) / len(split_medians)\n",
    "\n",
    "    def union(self, other):\n",
    "        assert self.n_hashing_functions == other.n_hashing_functions\n",
    "        assert self.bit_string_length == other.bit_string_length\n",
    "        assert self.n_splits == other.n_splits\n",
    "        Rs = [0 for i in range(len(self.Rs))]\n",
    "        for i in range(len(Rs)):\n",
    "            Rs[i] = max(self.Rs[i], other.Rs[i])\n",
    "        return FMCounter(n_hashing_functions=self.n_hashing_functions, \n",
    "                         bit_string_length=self.bit_string_length,\n",
    "                         n_splits=self.n_splits,\n",
    "                         initial=Rs)\n",
    "        \n",
    "    def __str__(self):\n",
    "        return 'FMCounter has value {}'.format(self.value())\n",
    "    \n",
    "    def __repr__(self):\n",
    "        return str(self.value())"
   ]
  },
  {
   "cell_type": "code",
   "execution_count": 31,
   "metadata": {},
   "outputs": [
    {
     "name": "stdout",
     "output_type": "stream",
     "text": [
      "Expected: 4096, actual: 4752.44544\n",
      "First 10 Rs: [12, 12, 13, 13, 13, 13, 13, 13, 13, 12]\n",
      "Expected: 4096, actual: 4118.786048\n",
      "First 10 Rs: [13, 12, 13, 9, 12, 12, 13, 12, 13, 13]\n",
      "Expected: 4096, actual: 5069.275136\n",
      "First 10 Rs: [11, 11, 10, 12, 13, 12, 13, 12, 12, 7]\n",
      "Expected: 4096, actual: 4435.615744000001\n",
      "First 10 Rs: [11, 12, 13, 13, 13, 13, 10, 12, 13, 13]\n",
      "Expected: 4096, actual: 4752.44544\n",
      "First 10 Rs: [12, 9, 13, 12, 13, 8, 13, 13, 12, 12]\n",
      "Expected: 4096, actual: 5069.275136\n",
      "First 10 Rs: [12, 13, 13, 13, 12, 11, 11, 13, 12, 11]\n",
      "Expected: 4096, actual: 4435.615744000001\n",
      "First 10 Rs: [12, 13, 12, 11, 12, 11, 13, 13, 12, 13]\n",
      "Expected: 4096, actual: 5702.934528\n",
      "First 10 Rs: [13, 11, 13, 13, 13, 13, 13, 10, 12, 13]\n",
      "Expected: 4096, actual: 5069.275136\n",
      "First 10 Rs: [13, 13, 13, 13, 11, 12, 12, 11, 13, 12]\n",
      "Expected: 4096, actual: 4118.786048\n",
      "First 10 Rs: [11, 12, 12, 12, 7, 10, 12, 10, 13, 13]\n",
      "RMSE (10 counters) = 807.3158858124799\n"
     ]
    }
   ],
   "source": [
    "n_counters = 10\n",
    "distinct_values = 2**12\n",
    "fm_counters = [FMCounter(bit_string_length=13) for _ in range(n_counters)]\n",
    "for i in range(distinct_values):\n",
    "    for counter in fm_counters:\n",
    "        counter.add(i)\n",
    "\n",
    "error = 0\n",
    "for counter in fm_counters:\n",
    "    actual_value = counter.value()\n",
    "    error += (distinct_values - actual_value) ** 2\n",
    "    print('Expected: {}, actual: {}'.format(distinct_values, actual_value))\n",
    "    print('First 10 Rs: {}'.format(counter.Rs[:10]))\n",
    "print('RMSE ({} counters) = {}'.format(n_counters, (error / n_counters)**0.5))"
   ]
  },
  {
   "cell_type": "markdown",
   "metadata": {},
   "source": [
    "## Hyperball"
   ]
  },
  {
   "cell_type": "code",
   "execution_count": 6,
   "metadata": {},
   "outputs": [],
   "source": [
    "test_graph = nx.read_edgelist('test_graph.edgelist', create_using=DiGraph, edgetype=str)\n",
    "florida_graph = nx.read_weighted_edgelist('florida-ecosystem-dry.edgelist',\n",
    "                                          comments='%', create_using=DiGraph)\n",
    "# air_graph = nx.read_edgelist('air-traffic-control.edgelist', \n",
    "#                              comments='%', create_using=DiGraph)"
   ]
  },
  {
   "cell_type": "code",
   "execution_count": 8,
   "metadata": {},
   "outputs": [
    {
     "data": {
      "image/png": "[encoded data removed]",
      "text/plain": [
       "<Figure size 1080x360 with 2 Axes>"
      ]
     },
     "metadata": {
      "needs_background": "light"
     },
     "output_type": "display_data"
    }
   ],
   "source": [
    "f = plt.figure(figsize=(15, 5))\n",
    "ax = f.add_subplot(121)\n",
    "nx.draw_networkx(test_graph)\n",
    "plt.title('Original')\n",
    "ax2 = f.add_subplot(122)\n",
    "nx.draw_networkx(test_graph.reverse())\n",
    "plt.title('Reversed')\n",
    "plt.show()"
   ]
  },
  {
   "cell_type": "markdown",
   "metadata": {},
   "source": [
    "### Why reverting the graph\n",
    "\n",
    "The nodes _coreachable_ from $x$ are the nodes $y$ such that $d(y,x) < \\infty$ (i.e., nodes from which is possible to travel to $x$). On the other hand we define the ball of radius $r$ around $x$ as:\n",
    "\n",
    "$$\n",
    "\\mathscr{B}_G(x,r) = \\{y|d(x,y) \\le r\\}\n",
    "$$\n",
    "\n",
    "For example, in the previous graph (original), the coreachable nodes from $z$ are $\\{x, y\\}$. If we invert the graph, the $\\mathscr{B}_G(z,r) = \\{x, y\\}$ when $r$ is large enough.\n",
    "\n",
    "This measure (coreachables nodes) is usefull to compute some centrality measures, such as the _harmonic closeness_.  "
   ]
  },
  {
   "cell_type": "markdown",
   "metadata": {},
   "source": [
    "### Streaming implementation\n",
    "\n",
    "To comply with the assignment's requirements, we implemented the Hyperball in a streaming fashion where the edges are ingested sequentially. Note that in order for the algorithm to work, we need sequential complete iterations over all the edges of the graph."
   ]
  },
  {
   "cell_type": "code",
   "execution_count": 9,
   "metadata": {},
   "outputs": [],
   "source": [
    "def graph_stream(graph):\n",
    "    for edge in graph.edges:\n",
    "        x, y = edge\n",
    "        yield x, y"
   ]
  },
  {
   "cell_type": "markdown",
   "metadata": {},
   "source": [
    "### Algorithm\n",
    "\n",
    "Basic idea:\n",
    "\n",
    "$$\n",
    "\\begin{align*}\n",
    "\\mathscr{B}_G(x,0) &= \\{x\\}\\\\\n",
    "\\mathscr{B}_G(x,r + 1) &= \\bigcup_{x \\rightarrow y} \\mathscr{B}_G(y,r) \\cup \\{x\\}\n",
    "\\end{align*}\n",
    "$$\n",
    "\n",
    "This is, the ball of radius $r$ around $x$ is the union of the balls of radius $r-1$ around the closest neighbors and $x$ itselft (to take into account the directionality of the graph).\n",
    "\n",
    "Hyperball starts computing the balls of radius 0 around each one of the nodes. Then, in an iterative manner, computes the nodes contained in a ball of radius $t$ around $v$, doing the union of the nodes contained in the balls of radius $t-1$ centered on the neighbors of $v$.\n",
    "\n",
    "For this reason we need to support the union operation between counters.\n",
    "\n",
    "### Centralities\n",
    "\n",
    "We can rewrite the _peripherality_ of node $x$ in terms of balls as follows: \n",
    "\n",
    "$$\n",
    "\\begin{align*}\n",
    "\\sum_{y} d(y,x) &= \\sum_{t>0} t | \\{y|d(y,x)=t\\} |\\\\\n",
    "&= \\sum_{t>0} t \\left( |\\mathscr{B}_{G^T}(x,t)| - |\\mathscr{B}_{G^T}(x,t-1)| \\right)\n",
    "\\end{align*}\n",
    "$$\n",
    "\n",
    "For a given $t$, $\\{y|d(y,x)=t\\}$ are the nodes at distance $t$ from $x$. \n",
    "\n",
    "$t|\\{y|d(y,x)=t\\}|$ is the sum of their distances.\n",
    "\n",
    "$\\sum_{t>0} t |\\{y|d(y,x)=t\\}|$ is the sum over all the spheres of increasing radius.\n",
    "\n",
    "\n",
    "Similarly, we can define the _harmonic centrality_ as follows:\n",
    "\n",
    "$$\n",
    "\\begin{align*}\n",
    "\\sum_{y \\ne x} \\frac{1}{d(y,x)} &= \\sum_{t>0} \\frac{1}{t} | \\{y|d(y,x)=t\\} |\\\\\n",
    "&= \\sum_{t>0} \\frac{1}{t} \\left( |\\mathscr{B}_{G^T}(x,t)| - |\\mathscr{B}_{G^T}(x,t-1)| \\right)\n",
    "\\end{align*}\n",
    "$$\n",
    "\n",
    "The harmonic centrality has the feature of automatically dealing with unconected components, and is considered to yield a better ranking for central nodes."
   ]
  },
  {
   "cell_type": "code",
   "execution_count": 10,
   "metadata": {},
   "outputs": [],
   "source": [
    "def hyperball(graph, counter_type=Counter):\n",
    "    \n",
    "    # c is an array if counters for each vertex\n",
    "    c = defaultdict(counter_type)\n",
    "    harmonic_closeness = defaultdict(float)\n",
    "    \n",
    "    # balls of radius 0 around each vertex\n",
    "    for v in graph.nodes:\n",
    "        c[v].add(v)\n",
    "\n",
    "    t = 0\n",
    "    while True:\n",
    "        counter_changed = False\n",
    "        # c is updated asynchronously so we need to keep a copy of the old counters\n",
    "        # in order to correctly compute the unions\n",
    "        c_old = copy.deepcopy(c)\n",
    "        for v, w in graph_stream(graph):\n",
    "            # a is the current updated version of the counter of the vertex\n",
    "            a = c[v]\n",
    "            # we need to combine with the previous of the counter to avoid leaking\n",
    "            # partial results because the edges are not granted to be processed in order\n",
    "            new_counter = a.union(c_old[w])\n",
    "            # check if counters stabilize\n",
    "            counter_changed |= new_counter.value() != a.value()\n",
    "            c[v] = new_counter\n",
    "        # At this point, we are sure that all the edges have been processed and we can\n",
    "        # update the armonic closeness. Only once per vertex\n",
    "        for v in c.keys():\n",
    "            harmonic_closeness[v] += (c[v].value() - c_old[v].value()) / (t + 1)\n",
    "        t += 1\n",
    "        if not counter_changed:\n",
    "            break\n",
    "            \n",
    "    return c, harmonic_closeness, t"
   ]
  },
  {
   "cell_type": "code",
   "execution_count": 11,
   "metadata": {},
   "outputs": [],
   "source": [
    "def actual_harmonic_closeness(graph):\n",
    "    actual_harmonic = {node: 0.0 for node in graph.nodes}\n",
    "    for x in nx.nodes(graph):\n",
    "        for y in nx.nodes(graph):\n",
    "            if x != y:\n",
    "                try:\n",
    "                    sp = nx.shortest_path(graph, y, x)\n",
    "                    sp = float(len(sp) - 1)\n",
    "                    actual_harmonic[x] += 1 / sp\n",
    "                except:\n",
    "                    # Never ever do this\n",
    "                    pass\n",
    "    return actual_harmonic"
   ]
  },
  {
   "cell_type": "markdown",
   "metadata": {},
   "source": [
    "In order to verify the correctness of the algorithm we compare the results with a \"brute force\" implementation of the harmonic closeness that uses the standard definition with complexity $O(n^2)$.\n",
    "\n",
    "To avoid probability fluctuations, we use a naive set counter. "
   ]
  },
  {
   "cell_type": "code",
   "execution_count": 32,
   "metadata": {},
   "outputs": [],
   "source": [
    "h_counters, h_harmonic, h_t = hyperball(florida_graph.reverse(), counter_type=Counter)\n",
    "harmonic = actual_harmonic_closeness(florida_graph)"
   ]
  },
  {
   "cell_type": "code",
   "execution_count": 33,
   "metadata": {},
   "outputs": [],
   "source": [
    "def root_mean_squared_error(dict1, dict2):\n",
    "    assert len(dict1) == len(dict2)\n",
    "    m = len(dict1)\n",
    "    error = 0\n",
    "    for k, v in dict1.items():\n",
    "        error += abs(v - dict2[k])**2\n",
    "    return (error / m) ** 0.5"
   ]
  },
  {
   "cell_type": "code",
   "execution_count": 34,
   "metadata": {},
   "outputs": [
    {
     "name": "stdout",
     "output_type": "stream",
     "text": [
      "RMSE is 0.000000\n"
     ]
    }
   ],
   "source": [
    "print('RMSE is {:.6f}'.format(root_mean_squared_error(h_harmonic, harmonic)))"
   ]
  },
  {
   "cell_type": "markdown",
   "metadata": {},
   "source": [
    "Now, we execute the same algorithm but using Flajolet-Martin counters."
   ]
  },
  {
   "cell_type": "code",
   "execution_count": 35,
   "metadata": {},
   "outputs": [],
   "source": [
    "h_counters_fm, h_harmonic_fm, h_t_fm = hyperball(florida_graph.reverse(), counter_type=FMCounter)"
   ]
  },
  {
   "cell_type": "code",
   "execution_count": 36,
   "metadata": {},
   "outputs": [
    {
     "name": "stdout",
     "output_type": "stream",
     "text": [
      "RMSE is 10.280194\n"
     ]
    }
   ],
   "source": [
    "print('RMSE is {:.6f}'.format(root_mean_squared_error(h_harmonic_fm, harmonic)))"
   ]
  },
  {
   "cell_type": "markdown",
   "metadata": {},
   "source": [
    "## Extra Points\n",
    "\n",
    "**1. What were the challenges you have faced when implementing the algorithm?**\n",
    "\n",
    "The main challenge was dealing correcly with the update of the counters. Meaning that the union must always be computed between the updated version of the current node counter and the old version of the neighbor counter. We need to keep a complete copy of the previous counters while updating the new ones, hence occupying twice the memory. The original algorith from Boldi and Vigna stores the temporary counters on disk and update them at the end of the full iteration.\n",
    "\n",
    "**2. Can the algorithm be easily parallelized? If yes, how? If not, why? Explain.**\n",
    "\n",
    "The algorithm is keen to parallelization. To illustrate this statetement let's think of a vertex-centric pregel-like framework where we have a step composed by a messaging part first and a computation part second.\n",
    "\n",
    "In the messaging phase, the vertex will send his counter to each neighbour. If a probabilistic counter is used (i.e. FM or HyperLogLog counters) the amount of data exchanged is very low. In the computational part, the vertex will do the union of his counter with all the received counters.\n",
    "In order for this approach to be successfull, the counters must support the union operation, as FM and HyperLogLog do.\n",
    "Remember that the graph must be inverted first.\n",
    "\n",
    "**3. Does the algorithm work for unbounded graph streams? Explain.**\n",
    "\n",
    "No, it does not. As it is necessary for the algorithm to iterate once over all edges in order to propagate correctly the counters and construct the balls of size _t_. We proposed a slight variation of the algorithm which is able to cope with streaming edges, which enables the graph to be processed with sequential I/O. Nevertheless it is still necessary to do multiple passes over the graph and the algorithm must be notified that all the edges have been processed in order to update correctly the nodes. Remember that the measure of centrality depends on the count of element inside the ball of size $t$ and $t-1$, hence we must be sure that all the nodes are inside the ball, so all edges have been processed.\n",
    "\n",
    "On the other hand the algorithm can cope with sporadical addition of edges, in the sense that few edges can be added while the computation is still running. For example, let's assume that the computation has reached iteration $t=4$, if an edge is added, we would have to propagate the counter of the node pointed by the edge to all vertexes in the ball of size 4. This must be done before the iteration for $t=5$ starts. This may seems pheasible for this example, but if the diameter of the graph is low, or if $t$ is big enough (i.e. we have allready converged), the nodes inside the ball can be all the nodes in the graph and recomputation can be very expensive!\n",
    "\n",
    "Note that HyperBall was presented by the authors as an algorithm specifically designed to process large static graphs in memory. That is, storing the counters in memory, and processing the graph stored on disk with sequential I/0.\n",
    "\n",
    "**4. Does the algorithm support edge deletions? If not, what modification would it need? Explain.**\n",
    "\n",
    "No, for the same reasons explained in question 3. The algorithm needs to know that all the edges have been processed in order to compute the centrality measure. \n",
    "\n",
    "In contrast to edge addition, edge deletion is much trickier. Firt of all we need a counter that supports item subraction, both FM and HyperLogLog does not, because we lose the memory of the history of the coin-tosses and just save the number of adiacent zeros. We do not know which item was responsible for that sequence of zeros, even if we knew and the item we are subtracting was responsible for that last value, we should still remember the history of all previous values (for subsequent edge deletions).\n",
    "\n",
    "But let's assume that a counter that supports subtraction exists, for example by using the exact counter proposed at the beginning of the notebook which uses the complete sets. Let's also assume that the last complete computational step before the deletion was step $t$. Now, very naively, if the vertex $v$ is disconnected by the graph, we should remove all the vertexes contained in his counter to all counters contained in the ball of center $v$ and radius $t$ :  $\\mathscr{B}_{G}(v,t)$. But this approach is incorrect, because the items we are trying to subtract from neighbours counters, may have reached that particular counter following other possible paths. A simple solution for this would be a _\"reference counting approach\"_, where each vertex contained in the counter is associated to an incremental number which increases every time the vertex is received from a neighborg counter. In this way the vertex will be removed only if the counter reaches zero.\n",
    "\n",
    "Adapting the algorithm to edge deletion will cost a lot of memory, which will defy the goal of the original HyperBall algorithm.\n"
   ]
  }
 ],
 "metadata": {
  "kernelspec": {
   "display_name": "Python 3",
   "language": "python",
   "name": "python3"
  },
  "language_info": {
   "codemirror_mode": {
    "name": "ipython",
    "version": 3
   },
   "file_extension": ".py",
   "mimetype": "text/x-python",
   "name": "python",
   "nbconvert_exporter": "python",
   "pygments_lexer": "ipython3",
   "version": "3.6.6"
  }
 },
 "nbformat": 4,
 "nbformat_minor": 2
}
